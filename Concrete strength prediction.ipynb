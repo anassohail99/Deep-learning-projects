{
 "cells": [
  {
   "cell_type": "code",
   "execution_count": 3,
   "metadata": {},
   "outputs": [],
   "source": [
    "import pandas as pd\n",
    "import tensorflow as tf\n",
    "from tensorflow.keras import models, layers, utils\n",
    "from sklearn.utils import shuffle"
   ]
  },
  {
   "cell_type": "markdown",
   "metadata": {},
   "source": [
    "# Loading Data"
   ]
  },
  {
   "cell_type": "code",
   "execution_count": 2,
   "metadata": {},
   "outputs": [
    {
     "data": {
      "text/html": [
       "<div>\n",
       "<style scoped>\n",
       "    .dataframe tbody tr th:only-of-type {\n",
       "        vertical-align: middle;\n",
       "    }\n",
       "\n",
       "    .dataframe tbody tr th {\n",
       "        vertical-align: top;\n",
       "    }\n",
       "\n",
       "    .dataframe thead th {\n",
       "        text-align: right;\n",
       "    }\n",
       "</style>\n",
       "<table border=\"1\" class=\"dataframe\">\n",
       "  <thead>\n",
       "    <tr style=\"text-align: right;\">\n",
       "      <th></th>\n",
       "      <th>Cement (component 1)(kg in a m^3 mixture)</th>\n",
       "      <th>Blast Furnace Slag (component 2)(kg in a m^3 mixture)</th>\n",
       "      <th>Fly Ash (component 3)(kg in a m^3 mixture)</th>\n",
       "      <th>Water  (component 4)(kg in a m^3 mixture)</th>\n",
       "      <th>Superplasticizer (component 5)(kg in a m^3 mixture)</th>\n",
       "      <th>Coarse Aggregate  (component 6)(kg in a m^3 mixture)</th>\n",
       "      <th>Fine Aggregate (component 7)(kg in a m^3 mixture)</th>\n",
       "      <th>Age (day)</th>\n",
       "      <th>Concrete compressive strength(MPa, megapascals)</th>\n",
       "    </tr>\n",
       "  </thead>\n",
       "  <tbody>\n",
       "    <tr>\n",
       "      <th>0</th>\n",
       "      <td>540.0</td>\n",
       "      <td>0.0</td>\n",
       "      <td>0.0</td>\n",
       "      <td>162.0</td>\n",
       "      <td>2.5</td>\n",
       "      <td>1040.0</td>\n",
       "      <td>676.0</td>\n",
       "      <td>28</td>\n",
       "      <td>79.99</td>\n",
       "    </tr>\n",
       "    <tr>\n",
       "      <th>1</th>\n",
       "      <td>540.0</td>\n",
       "      <td>0.0</td>\n",
       "      <td>0.0</td>\n",
       "      <td>162.0</td>\n",
       "      <td>2.5</td>\n",
       "      <td>1055.0</td>\n",
       "      <td>676.0</td>\n",
       "      <td>28</td>\n",
       "      <td>61.89</td>\n",
       "    </tr>\n",
       "    <tr>\n",
       "      <th>2</th>\n",
       "      <td>332.5</td>\n",
       "      <td>142.5</td>\n",
       "      <td>0.0</td>\n",
       "      <td>228.0</td>\n",
       "      <td>0.0</td>\n",
       "      <td>932.0</td>\n",
       "      <td>594.0</td>\n",
       "      <td>270</td>\n",
       "      <td>40.27</td>\n",
       "    </tr>\n",
       "    <tr>\n",
       "      <th>3</th>\n",
       "      <td>332.5</td>\n",
       "      <td>142.5</td>\n",
       "      <td>0.0</td>\n",
       "      <td>228.0</td>\n",
       "      <td>0.0</td>\n",
       "      <td>932.0</td>\n",
       "      <td>594.0</td>\n",
       "      <td>365</td>\n",
       "      <td>41.05</td>\n",
       "    </tr>\n",
       "    <tr>\n",
       "      <th>4</th>\n",
       "      <td>198.6</td>\n",
       "      <td>132.4</td>\n",
       "      <td>0.0</td>\n",
       "      <td>192.0</td>\n",
       "      <td>0.0</td>\n",
       "      <td>978.4</td>\n",
       "      <td>825.5</td>\n",
       "      <td>360</td>\n",
       "      <td>44.30</td>\n",
       "    </tr>\n",
       "  </tbody>\n",
       "</table>\n",
       "</div>"
      ],
      "text/plain": [
       "   Cement (component 1)(kg in a m^3 mixture)  \\\n",
       "0                                      540.0   \n",
       "1                                      540.0   \n",
       "2                                      332.5   \n",
       "3                                      332.5   \n",
       "4                                      198.6   \n",
       "\n",
       "   Blast Furnace Slag (component 2)(kg in a m^3 mixture)  \\\n",
       "0                                                0.0       \n",
       "1                                                0.0       \n",
       "2                                              142.5       \n",
       "3                                              142.5       \n",
       "4                                              132.4       \n",
       "\n",
       "   Fly Ash (component 3)(kg in a m^3 mixture)  \\\n",
       "0                                         0.0   \n",
       "1                                         0.0   \n",
       "2                                         0.0   \n",
       "3                                         0.0   \n",
       "4                                         0.0   \n",
       "\n",
       "   Water  (component 4)(kg in a m^3 mixture)  \\\n",
       "0                                      162.0   \n",
       "1                                      162.0   \n",
       "2                                      228.0   \n",
       "3                                      228.0   \n",
       "4                                      192.0   \n",
       "\n",
       "   Superplasticizer (component 5)(kg in a m^3 mixture)  \\\n",
       "0                                                2.5     \n",
       "1                                                2.5     \n",
       "2                                                0.0     \n",
       "3                                                0.0     \n",
       "4                                                0.0     \n",
       "\n",
       "   Coarse Aggregate  (component 6)(kg in a m^3 mixture)  \\\n",
       "0                                             1040.0      \n",
       "1                                             1055.0      \n",
       "2                                              932.0      \n",
       "3                                              932.0      \n",
       "4                                              978.4      \n",
       "\n",
       "   Fine Aggregate (component 7)(kg in a m^3 mixture)  Age (day)  \\\n",
       "0                                              676.0         28   \n",
       "1                                              676.0         28   \n",
       "2                                              594.0        270   \n",
       "3                                              594.0        365   \n",
       "4                                              825.5        360   \n",
       "\n",
       "   Concrete compressive strength(MPa, megapascals)   \n",
       "0                                             79.99  \n",
       "1                                             61.89  \n",
       "2                                             40.27  \n",
       "3                                             41.05  \n",
       "4                                             44.30  "
      ]
     },
     "execution_count": 2,
     "metadata": {},
     "output_type": "execute_result"
    }
   ],
   "source": [
    "df = pd.read_csv('data/compresive_strength_concrete.csv')\n",
    "df.head()"
   ]
  },
  {
   "cell_type": "code",
   "execution_count": 24,
   "metadata": {},
   "outputs": [
    {
     "data": {
      "text/html": [
       "<div>\n",
       "<style scoped>\n",
       "    .dataframe tbody tr th:only-of-type {\n",
       "        vertical-align: middle;\n",
       "    }\n",
       "\n",
       "    .dataframe tbody tr th {\n",
       "        vertical-align: top;\n",
       "    }\n",
       "\n",
       "    .dataframe thead th {\n",
       "        text-align: right;\n",
       "    }\n",
       "</style>\n",
       "<table border=\"1\" class=\"dataframe\">\n",
       "  <thead>\n",
       "    <tr style=\"text-align: right;\">\n",
       "      <th></th>\n",
       "      <th>Cement (component 1)(kg in a m^3 mixture)</th>\n",
       "      <th>Blast Furnace Slag (component 2)(kg in a m^3 mixture)</th>\n",
       "      <th>Fly Ash (component 3)(kg in a m^3 mixture)</th>\n",
       "      <th>Water  (component 4)(kg in a m^3 mixture)</th>\n",
       "      <th>Superplasticizer (component 5)(kg in a m^3 mixture)</th>\n",
       "      <th>Coarse Aggregate  (component 6)(kg in a m^3 mixture)</th>\n",
       "      <th>Fine Aggregate (component 7)(kg in a m^3 mixture)</th>\n",
       "      <th>Age (day)</th>\n",
       "      <th>Concrete compressive strength(MPa, megapascals)</th>\n",
       "    </tr>\n",
       "  </thead>\n",
       "  <tbody>\n",
       "  </tbody>\n",
       "</table>\n",
       "</div>"
      ],
      "text/plain": [
       "Empty DataFrame\n",
       "Columns: [Cement (component 1)(kg in a m^3 mixture), Blast Furnace Slag (component 2)(kg in a m^3 mixture), Fly Ash (component 3)(kg in a m^3 mixture), Water  (component 4)(kg in a m^3 mixture), Superplasticizer (component 5)(kg in a m^3 mixture), Coarse Aggregate  (component 6)(kg in a m^3 mixture), Fine Aggregate (component 7)(kg in a m^3 mixture), Age (day), Concrete compressive strength(MPa, megapascals) ]\n",
       "Index: []"
      ]
     },
     "execution_count": 24,
     "metadata": {},
     "output_type": "execute_result"
    }
   ],
   "source": [
    "#checking for null values\n",
    "df[df.isnull().any(axis=1)]"
   ]
  },
  {
   "cell_type": "code",
   "execution_count": 4,
   "metadata": {},
   "outputs": [
    {
     "data": {
      "text/html": [
       "<div>\n",
       "<style scoped>\n",
       "    .dataframe tbody tr th:only-of-type {\n",
       "        vertical-align: middle;\n",
       "    }\n",
       "\n",
       "    .dataframe tbody tr th {\n",
       "        vertical-align: top;\n",
       "    }\n",
       "\n",
       "    .dataframe thead th {\n",
       "        text-align: right;\n",
       "    }\n",
       "</style>\n",
       "<table border=\"1\" class=\"dataframe\">\n",
       "  <thead>\n",
       "    <tr style=\"text-align: right;\">\n",
       "      <th></th>\n",
       "      <th>Cement (component 1)(kg in a m^3 mixture)</th>\n",
       "      <th>Blast Furnace Slag (component 2)(kg in a m^3 mixture)</th>\n",
       "      <th>Fly Ash (component 3)(kg in a m^3 mixture)</th>\n",
       "      <th>Water  (component 4)(kg in a m^3 mixture)</th>\n",
       "      <th>Superplasticizer (component 5)(kg in a m^3 mixture)</th>\n",
       "      <th>Coarse Aggregate  (component 6)(kg in a m^3 mixture)</th>\n",
       "      <th>Fine Aggregate (component 7)(kg in a m^3 mixture)</th>\n",
       "      <th>Age (day)</th>\n",
       "      <th>Concrete compressive strength(MPa, megapascals)</th>\n",
       "    </tr>\n",
       "  </thead>\n",
       "  <tbody>\n",
       "    <tr>\n",
       "      <th>782</th>\n",
       "      <td>296.0</td>\n",
       "      <td>0.0</td>\n",
       "      <td>0.0</td>\n",
       "      <td>192.0</td>\n",
       "      <td>0.0</td>\n",
       "      <td>1085.0</td>\n",
       "      <td>765.0</td>\n",
       "      <td>28</td>\n",
       "      <td>21.65</td>\n",
       "    </tr>\n",
       "    <tr>\n",
       "      <th>21</th>\n",
       "      <td>139.6</td>\n",
       "      <td>209.4</td>\n",
       "      <td>0.0</td>\n",
       "      <td>192.0</td>\n",
       "      <td>0.0</td>\n",
       "      <td>1047.0</td>\n",
       "      <td>806.9</td>\n",
       "      <td>28</td>\n",
       "      <td>28.24</td>\n",
       "    </tr>\n",
       "    <tr>\n",
       "      <th>16</th>\n",
       "      <td>139.6</td>\n",
       "      <td>209.4</td>\n",
       "      <td>0.0</td>\n",
       "      <td>192.0</td>\n",
       "      <td>0.0</td>\n",
       "      <td>1047.0</td>\n",
       "      <td>806.9</td>\n",
       "      <td>90</td>\n",
       "      <td>39.36</td>\n",
       "    </tr>\n",
       "    <tr>\n",
       "      <th>855</th>\n",
       "      <td>326.0</td>\n",
       "      <td>166.0</td>\n",
       "      <td>0.0</td>\n",
       "      <td>174.0</td>\n",
       "      <td>9.0</td>\n",
       "      <td>882.0</td>\n",
       "      <td>790.0</td>\n",
       "      <td>28</td>\n",
       "      <td>61.23</td>\n",
       "    </tr>\n",
       "    <tr>\n",
       "      <th>682</th>\n",
       "      <td>183.9</td>\n",
       "      <td>122.6</td>\n",
       "      <td>0.0</td>\n",
       "      <td>203.5</td>\n",
       "      <td>0.0</td>\n",
       "      <td>959.2</td>\n",
       "      <td>800.0</td>\n",
       "      <td>28</td>\n",
       "      <td>24.05</td>\n",
       "    </tr>\n",
       "  </tbody>\n",
       "</table>\n",
       "</div>"
      ],
      "text/plain": [
       "     Cement (component 1)(kg in a m^3 mixture)  \\\n",
       "782                                      296.0   \n",
       "21                                       139.6   \n",
       "16                                       139.6   \n",
       "855                                      326.0   \n",
       "682                                      183.9   \n",
       "\n",
       "     Blast Furnace Slag (component 2)(kg in a m^3 mixture)  \\\n",
       "782                                                0.0       \n",
       "21                                               209.4       \n",
       "16                                               209.4       \n",
       "855                                              166.0       \n",
       "682                                              122.6       \n",
       "\n",
       "     Fly Ash (component 3)(kg in a m^3 mixture)  \\\n",
       "782                                         0.0   \n",
       "21                                          0.0   \n",
       "16                                          0.0   \n",
       "855                                         0.0   \n",
       "682                                         0.0   \n",
       "\n",
       "     Water  (component 4)(kg in a m^3 mixture)  \\\n",
       "782                                      192.0   \n",
       "21                                       192.0   \n",
       "16                                       192.0   \n",
       "855                                      174.0   \n",
       "682                                      203.5   \n",
       "\n",
       "     Superplasticizer (component 5)(kg in a m^3 mixture)  \\\n",
       "782                                                0.0     \n",
       "21                                                 0.0     \n",
       "16                                                 0.0     \n",
       "855                                                9.0     \n",
       "682                                                0.0     \n",
       "\n",
       "     Coarse Aggregate  (component 6)(kg in a m^3 mixture)  \\\n",
       "782                                             1085.0      \n",
       "21                                              1047.0      \n",
       "16                                              1047.0      \n",
       "855                                              882.0      \n",
       "682                                              959.2      \n",
       "\n",
       "     Fine Aggregate (component 7)(kg in a m^3 mixture)  Age (day)  \\\n",
       "782                                              765.0         28   \n",
       "21                                               806.9         28   \n",
       "16                                               806.9         90   \n",
       "855                                              790.0         28   \n",
       "682                                              800.0         28   \n",
       "\n",
       "     Concrete compressive strength(MPa, megapascals)   \n",
       "782                                             21.65  \n",
       "21                                              28.24  \n",
       "16                                              39.36  \n",
       "855                                             61.23  \n",
       "682                                             24.05  "
      ]
     },
     "execution_count": 4,
     "metadata": {},
     "output_type": "execute_result"
    }
   ],
   "source": [
    "data = shuffle(df)\n",
    "data.head()"
   ]
  },
  {
   "cell_type": "code",
   "execution_count": 5,
   "metadata": {},
   "outputs": [
    {
     "name": "stdout",
     "output_type": "stream",
     "text": [
      "[[296.     0.     0.   ... 765.    28.    21.65]\n",
      " [139.6  209.4    0.   ... 806.9   28.    28.24]\n",
      " [139.6  209.4    0.   ... 806.9   90.    39.36]\n",
      " ...\n",
      " [359.    19.   141.   ... 801.    28.    62.94]\n",
      " [154.8  183.4    0.   ... 696.7   28.    18.29]\n",
      " [144.   170.   133.   ... 805.    28.    29.87]]\n"
     ]
    }
   ],
   "source": [
    "data = data.values\n",
    "print(data)"
   ]
  },
  {
   "cell_type": "code",
   "execution_count": 6,
   "metadata": {},
   "outputs": [
    {
     "data": {
      "text/plain": [
       "(1030, 9)"
      ]
     },
     "execution_count": 6,
     "metadata": {},
     "output_type": "execute_result"
    }
   ],
   "source": [
    "data.shape"
   ]
  },
  {
   "cell_type": "markdown",
   "metadata": {},
   "source": [
    "# Splitting Data"
   ]
  },
  {
   "cell_type": "code",
   "execution_count": 55,
   "metadata": {},
   "outputs": [
    {
     "name": "stdout",
     "output_type": "stream",
     "text": [
      "[ 296.    0.    0.  192.    0. 1085.  765.   28.]\n",
      "21.65\n"
     ]
    }
   ],
   "source": [
    "#splitting labels from data\n",
    "x = data[:,:8].astype('float32')\n",
    "y = data[:,8]\n",
    "print(x[0])\n",
    "print(y[0])"
   ]
  },
  {
   "cell_type": "code",
   "execution_count": 56,
   "metadata": {},
   "outputs": [
    {
     "name": "stdout",
     "output_type": "stream",
     "text": [
      "(1030, 8)\n",
      "(1030,)\n"
     ]
    }
   ],
   "source": [
    "print(x.shape)\n",
    "print(y.shape)"
   ]
  },
  {
   "cell_type": "code",
   "execution_count": 57,
   "metadata": {},
   "outputs": [],
   "source": [
    "#splitting data for training, testing and validation\n",
    "train_data = x[:515,:] #50% for training\n",
    "train_labels = y[:515]\n",
    "val_data = x[515:721,:] # 20% for validation\n",
    "val_labels = y[515:721]\n",
    "test_data = x[721:,:] # 30% for testing\n",
    "test_label = y[721:]"
   ]
  },
  {
   "cell_type": "code",
   "execution_count": 58,
   "metadata": {},
   "outputs": [
    {
     "name": "stdout",
     "output_type": "stream",
     "text": [
      "Train data:  (515, 8)\n",
      "Validation data:  (206, 8)\n",
      "Test data:  (309, 8)\n"
     ]
    }
   ],
   "source": [
    "print('Train data: ',train_data.shape)\n",
    "print('Validation data: ',val_data.shape)\n",
    "print('Test data: ',test_data.shape)"
   ]
  },
  {
   "cell_type": "markdown",
   "metadata": {},
   "source": [
    "# Building Model"
   ]
  },
  {
   "cell_type": "code",
   "execution_count": 77,
   "metadata": {},
   "outputs": [],
   "source": [
    "model = models.Sequential()\n",
    "model.add(layers.Dense(16, activation='relu', input_shape=(8,)))\n",
    "model.add(layers.Dense(16, activation='relu'))\n",
    "model.add(layers.Dense(16, activation='relu'))\n",
    "model.add(layers.Dense(1))"
   ]
  },
  {
   "cell_type": "markdown",
   "metadata": {},
   "source": [
    "# Compiling Model"
   ]
  },
  {
   "cell_type": "code",
   "execution_count": 78,
   "metadata": {},
   "outputs": [],
   "source": [
    "model.compile(optimizer='rmsprop',\n",
    "              loss='mse',\n",
    "              metrics=['mae'])"
   ]
  },
  {
   "cell_type": "code",
   "execution_count": 79,
   "metadata": {},
   "outputs": [
    {
     "name": "stdout",
     "output_type": "stream",
     "text": [
      "Train on 515 samples, validate on 206 samples\n",
      "Epoch 1/100\n",
      "515/515 [==============================] - 2s 5ms/sample - loss: 302.1392 - mae: 13.9467 - val_loss: 253.3951 - val_mae: 12.8345\n",
      "Epoch 2/100\n",
      "515/515 [==============================] - 1s 1ms/sample - loss: 243.8940 - mae: 12.5339 - val_loss: 213.2562 - val_mae: 12.0227\n",
      "Epoch 3/100\n",
      "515/515 [==============================] - 1s 1ms/sample - loss: 223.9423 - mae: 12.1523 - val_loss: 246.3447 - val_mae: 12.7102\n",
      "Epoch 4/100\n",
      "515/515 [==============================] - 1s 1ms/sample - loss: 199.5974 - mae: 11.3562 - val_loss: 162.1519 - val_mae: 9.8875\n",
      "Epoch 5/100\n",
      "515/515 [==============================] - 1s 1ms/sample - loss: 171.8977 - mae: 10.4317 - val_loss: 593.1549 - val_mae: 21.4532\n",
      "Epoch 6/100\n",
      "515/515 [==============================] - 1s 1ms/sample - loss: 170.5187 - mae: 10.4443 - val_loss: 170.4032 - val_mae: 10.1896\n",
      "Epoch 7/100\n",
      "515/515 [==============================] - 1s 1ms/sample - loss: 168.4454 - mae: 10.2226 - val_loss: 160.5143 - val_mae: 9.9884\n",
      "Epoch 8/100\n",
      "515/515 [==============================] - 1s 1ms/sample - loss: 165.1162 - mae: 10.1401 - val_loss: 144.0869 - val_mae: 9.2166\n",
      "Epoch 9/100\n",
      "515/515 [==============================] - 1s 1ms/sample - loss: 157.6339 - mae: 10.1359 - val_loss: 393.9022 - val_mae: 17.3098\n",
      "Epoch 10/100\n",
      "515/515 [==============================] - 1s 1ms/sample - loss: 152.5979 - mae: 9.9703 - val_loss: 132.0455 - val_mae: 8.7318\n",
      "Epoch 11/100\n",
      "515/515 [==============================] - 1s 1ms/sample - loss: 143.3636 - mae: 9.4590 - val_loss: 137.2373 - val_mae: 9.0041\n",
      "Epoch 12/100\n",
      "515/515 [==============================] - 1s 1ms/sample - loss: 134.2453 - mae: 9.0422 - val_loss: 249.9263 - val_mae: 13.3489\n",
      "Epoch 13/100\n",
      "515/515 [==============================] - 1s 1ms/sample - loss: 126.6299 - mae: 8.8434 - val_loss: 148.5244 - val_mae: 9.7070\n",
      "Epoch 14/100\n",
      "515/515 [==============================] - 1s 1ms/sample - loss: 124.2044 - mae: 8.8244 - val_loss: 113.2104 - val_mae: 8.1531\n",
      "Epoch 15/100\n",
      "515/515 [==============================] - 1s 1ms/sample - loss: 118.2512 - mae: 8.5861 - val_loss: 99.9864 - val_mae: 7.6464\n",
      "Epoch 16/100\n",
      "515/515 [==============================] - 1s 1ms/sample - loss: 107.8842 - mae: 8.0398 - val_loss: 96.9792 - val_mae: 7.6405\n",
      "Epoch 17/100\n",
      "515/515 [==============================] - 1s 1ms/sample - loss: 108.4916 - mae: 8.2026 - val_loss: 102.1093 - val_mae: 7.6039\n",
      "Epoch 18/100\n",
      "515/515 [==============================] - 1s 1ms/sample - loss: 106.6806 - mae: 8.0454 - val_loss: 98.5811 - val_mae: 7.7148\n",
      "Epoch 19/100\n",
      "515/515 [==============================] - 1s 1ms/sample - loss: 98.2677 - mae: 7.7226 - val_loss: 85.4629 - val_mae: 7.1574\n",
      "Epoch 20/100\n",
      "515/515 [==============================] - 1s 1ms/sample - loss: 102.5828 - mae: 7.8617 - val_loss: 107.3893 - val_mae: 8.1528\n",
      "Epoch 21/100\n",
      "515/515 [==============================] - 1s 1ms/sample - loss: 97.8238 - mae: 7.6456 - val_loss: 85.3604 - val_mae: 7.1823\n",
      "Epoch 22/100\n",
      "515/515 [==============================] - 1s 1ms/sample - loss: 91.9882 - mae: 7.6212 - val_loss: 84.0924 - val_mae: 6.9414\n",
      "Epoch 23/100\n",
      "515/515 [==============================] - 1s 1ms/sample - loss: 94.0206 - mae: 7.5338 - val_loss: 78.3686 - val_mae: 6.8227\n",
      "Epoch 24/100\n",
      "515/515 [==============================] - 1s 1ms/sample - loss: 93.4589 - mae: 7.4505 - val_loss: 100.1928 - val_mae: 8.0315\n",
      "Epoch 25/100\n",
      "515/515 [==============================] - 1s 1ms/sample - loss: 86.9035 - mae: 7.2692 - val_loss: 84.7723 - val_mae: 7.3117\n",
      "Epoch 26/100\n",
      "515/515 [==============================] - 1s 1ms/sample - loss: 88.3627 - mae: 7.3919 - val_loss: 212.4893 - val_mae: 12.4517\n",
      "Epoch 27/100\n",
      "515/515 [==============================] - 1s 1ms/sample - loss: 92.4610 - mae: 7.5364 - val_loss: 133.3991 - val_mae: 9.6968\n",
      "Epoch 28/100\n",
      "515/515 [==============================] - 1s 982us/sample - loss: 87.2201 - mae: 7.2994 - val_loss: 70.7433 - val_mae: 6.7158\n",
      "Epoch 29/100\n",
      "515/515 [==============================] - 1s 983us/sample - loss: 81.7987 - mae: 7.0168 - val_loss: 163.7010 - val_mae: 10.3412\n",
      "Epoch 30/100\n",
      "515/515 [==============================] - 0s 911us/sample - loss: 87.0207 - mae: 7.2663 - val_loss: 92.1577 - val_mae: 7.5932\n",
      "Epoch 31/100\n",
      "515/515 [==============================] - 0s 907us/sample - loss: 86.9474 - mae: 7.2288 - val_loss: 69.0330 - val_mae: 6.5917\n",
      "Epoch 32/100\n",
      "515/515 [==============================] - 1s 1ms/sample - loss: 76.2321 - mae: 6.8509 - val_loss: 146.0551 - val_mae: 9.9913\n",
      "Epoch 33/100\n",
      "515/515 [==============================] - ETA: 0s - loss: 78.3468 - mae: 6.96 - 0s 970us/sample - loss: 79.5971 - mae: 7.0011 - val_loss: 71.6671 - val_mae: 6.5844\n",
      "Epoch 34/100\n",
      "515/515 [==============================] - 0s 943us/sample - loss: 82.4801 - mae: 6.9835 - val_loss: 83.0601 - val_mae: 7.0077\n",
      "Epoch 35/100\n",
      "515/515 [==============================] - 1s 997us/sample - loss: 77.0380 - mae: 6.7820 - val_loss: 110.1251 - val_mae: 8.4233\n",
      "Epoch 36/100\n",
      "515/515 [==============================] - 0s 963us/sample - loss: 78.2347 - mae: 6.7763 - val_loss: 69.0636 - val_mae: 6.4548\n",
      "Epoch 37/100\n",
      "515/515 [==============================] - 0s 969us/sample - loss: 74.4444 - mae: 6.6724 - val_loss: 75.1476 - val_mae: 6.8698\n",
      "Epoch 38/100\n",
      "515/515 [==============================] - 1s 980us/sample - loss: 74.2139 - mae: 6.7952 - val_loss: 71.1513 - val_mae: 6.6613\n",
      "Epoch 39/100\n",
      "515/515 [==============================] - 1s 1ms/sample - loss: 76.1098 - mae: 6.7430 - val_loss: 71.7641 - val_mae: 6.4653\n",
      "Epoch 40/100\n",
      "515/515 [==============================] - 1s 1ms/sample - loss: 76.4835 - mae: 6.8115 - val_loss: 63.0921 - val_mae: 6.3645\n",
      "Epoch 41/100\n",
      "515/515 [==============================] - 1s 1ms/sample - loss: 74.5976 - mae: 6.7029 - val_loss: 108.1070 - val_mae: 8.3369\n",
      "Epoch 42/100\n",
      "515/515 [==============================] - 1s 984us/sample - loss: 74.3057 - mae: 6.6827 - val_loss: 99.7445 - val_mae: 8.0222\n",
      "Epoch 43/100\n",
      "515/515 [==============================] - 0s 913us/sample - loss: 70.9587 - mae: 6.4901 - val_loss: 102.2388 - val_mae: 8.0772\n",
      "Epoch 44/100\n",
      "515/515 [==============================] - 0s 944us/sample - loss: 69.7507 - mae: 6.5104 - val_loss: 106.9357 - val_mae: 8.2390\n",
      "Epoch 45/100\n",
      "515/515 [==============================] - 0s 911us/sample - loss: 71.4293 - mae: 6.3416 - val_loss: 284.8842 - val_mae: 14.7153\n",
      "Epoch 46/100\n",
      "515/515 [==============================] - 0s 889us/sample - loss: 72.0401 - mae: 6.3677 - val_loss: 68.0093 - val_mae: 6.3086\n",
      "Epoch 47/100\n",
      "515/515 [==============================] - 0s 963us/sample - loss: 65.6286 - mae: 6.1500 - val_loss: 115.0681 - val_mae: 8.8157\n",
      "Epoch 48/100\n",
      "515/515 [==============================] - 1s 974us/sample - loss: 69.0330 - mae: 6.5608 - val_loss: 68.6935 - val_mae: 6.1436\n",
      "Epoch 49/100\n",
      "515/515 [==============================] - 1s 983us/sample - loss: 63.0521 - mae: 6.1457 - val_loss: 84.9761 - val_mae: 7.2032\n",
      "Epoch 50/100\n",
      "515/515 [==============================] - 0s 964us/sample - loss: 67.9249 - mae: 6.2369 - val_loss: 69.2737 - val_mae: 6.1699\n",
      "Epoch 51/100\n",
      "515/515 [==============================] - 0s 964us/sample - loss: 62.5976 - mae: 6.1681 - val_loss: 61.9500 - val_mae: 6.0518\n",
      "Epoch 52/100\n",
      "515/515 [==============================] - 0s 927us/sample - loss: 59.4607 - mae: 5.8807 - val_loss: 63.0233 - val_mae: 6.2641\n",
      "Epoch 53/100\n",
      "515/515 [==============================] - 0s 935us/sample - loss: 60.4013 - mae: 5.9319 - val_loss: 61.5916 - val_mae: 6.2527\n",
      "Epoch 54/100\n",
      "515/515 [==============================] - 0s 933us/sample - loss: 65.0502 - mae: 6.1109 - val_loss: 58.5392 - val_mae: 6.1179\n",
      "Epoch 55/100\n",
      "515/515 [==============================] - 1s 980us/sample - loss: 60.0374 - mae: 5.8983 - val_loss: 88.1795 - val_mae: 7.3904\n",
      "Epoch 56/100\n",
      "515/515 [==============================] - 1s 1ms/sample - loss: 62.4630 - mae: 6.0034 - val_loss: 63.4739 - val_mae: 6.1486\n",
      "Epoch 57/100\n",
      "515/515 [==============================] - 1s 999us/sample - loss: 60.6747 - mae: 6.0875 - val_loss: 54.5006 - val_mae: 5.6296\n",
      "Epoch 58/100\n",
      "515/515 [==============================] - 1s 977us/sample - loss: 59.9631 - mae: 5.9098 - val_loss: 75.5223 - val_mae: 6.8331\n"
     ]
    },
    {
     "name": "stdout",
     "output_type": "stream",
     "text": [
      "Epoch 59/100\n",
      "515/515 [==============================] - 1s 1ms/sample - loss: 61.2512 - mae: 5.9448 - val_loss: 88.5900 - val_mae: 7.4354\n",
      "Epoch 60/100\n",
      "515/515 [==============================] - 0s 962us/sample - loss: 58.7236 - mae: 5.8703 - val_loss: 59.0271 - val_mae: 6.0244\n",
      "Epoch 61/100\n",
      "515/515 [==============================] - 1s 1ms/sample - loss: 57.7935 - mae: 5.7975 - val_loss: 107.7041 - val_mae: 8.5470\n",
      "Epoch 62/100\n",
      "515/515 [==============================] - 0s 939us/sample - loss: 55.3630 - mae: 5.7129 - val_loss: 55.7722 - val_mae: 5.8323\n",
      "Epoch 63/100\n",
      "515/515 [==============================] - 0s 893us/sample - loss: 58.1862 - mae: 5.7404 - val_loss: 49.6157 - val_mae: 5.3664\n",
      "Epoch 64/100\n",
      "515/515 [==============================] - 0s 919us/sample - loss: 55.8426 - mae: 5.6456 - val_loss: 54.5393 - val_mae: 5.6609\n",
      "Epoch 65/100\n",
      "515/515 [==============================] - 0s 927us/sample - loss: 53.9750 - mae: 5.7380 - val_loss: 62.8950 - val_mae: 6.0098\n",
      "Epoch 66/100\n",
      "515/515 [==============================] - 0s 952us/sample - loss: 55.3149 - mae: 5.7699 - val_loss: 80.3665 - val_mae: 6.8639\n",
      "Epoch 67/100\n",
      "515/515 [==============================] - 0s 960us/sample - loss: 53.7158 - mae: 5.7452 - val_loss: 79.3676 - val_mae: 6.9163\n",
      "Epoch 68/100\n",
      "515/515 [==============================] - 1s 976us/sample - loss: 54.8656 - mae: 5.6034 - val_loss: 108.7991 - val_mae: 8.2245\n",
      "Epoch 69/100\n",
      "515/515 [==============================] - 0s 963us/sample - loss: 53.8738 - mae: 5.4010 - val_loss: 60.5885 - val_mae: 5.7159\n",
      "Epoch 70/100\n",
      "515/515 [==============================] - 1s 1ms/sample - loss: 55.8610 - mae: 5.7514 - val_loss: 61.5228 - val_mae: 6.2113\n",
      "Epoch 71/100\n",
      "515/515 [==============================] - 1s 1ms/sample - loss: 53.9306 - mae: 5.6085 - val_loss: 55.3468 - val_mae: 5.6222\n",
      "Epoch 72/100\n",
      "515/515 [==============================] - 0s 933us/sample - loss: 53.6829 - mae: 5.6907 - val_loss: 54.3040 - val_mae: 5.4868\n",
      "Epoch 73/100\n",
      "515/515 [==============================] - 0s 961us/sample - loss: 50.9779 - mae: 5.5349 - val_loss: 87.0895 - val_mae: 7.4972\n",
      "Epoch 74/100\n",
      "515/515 [==============================] - 0s 899us/sample - loss: 52.1187 - mae: 5.4817 - val_loss: 68.3088 - val_mae: 6.4101\n",
      "Epoch 75/100\n",
      "515/515 [==============================] - 0s 910us/sample - loss: 51.6693 - mae: 5.5248 - val_loss: 60.3767 - val_mae: 6.0581\n",
      "Epoch 76/100\n",
      "515/515 [==============================] - 0s 947us/sample - loss: 49.8614 - mae: 5.4248 - val_loss: 78.7535 - val_mae: 7.0118\n",
      "Epoch 77/100\n",
      "515/515 [==============================] - 0s 960us/sample - loss: 47.7072 - mae: 5.2654 - val_loss: 81.5687 - val_mae: 7.4123\n",
      "Epoch 78/100\n",
      "515/515 [==============================] - 0s 949us/sample - loss: 47.1097 - mae: 5.3384 - val_loss: 61.7393 - val_mae: 6.0844\n",
      "Epoch 79/100\n",
      "515/515 [==============================] - 0s 954us/sample - loss: 49.7661 - mae: 5.4462 - val_loss: 68.1565 - val_mae: 6.4873\n",
      "Epoch 80/100\n",
      "515/515 [==============================] - 0s 956us/sample - loss: 49.0636 - mae: 5.2680 - val_loss: 59.1139 - val_mae: 5.9544\n",
      "Epoch 81/100\n",
      "515/515 [==============================] - 0s 912us/sample - loss: 48.2285 - mae: 5.3469 - val_loss: 57.5849 - val_mae: 5.6978\n",
      "Epoch 82/100\n",
      "515/515 [==============================] - 0s 957us/sample - loss: 48.2332 - mae: 5.2799 - val_loss: 51.7086 - val_mae: 5.5129\n",
      "Epoch 83/100\n",
      "515/515 [==============================] - 0s 926us/sample - loss: 48.5167 - mae: 5.2450 - val_loss: 52.5893 - val_mae: 5.4391\n",
      "Epoch 84/100\n",
      "515/515 [==============================] - 0s 964us/sample - loss: 48.9808 - mae: 5.2672 - val_loss: 48.0154 - val_mae: 5.2347\n",
      "Epoch 85/100\n",
      "515/515 [==============================] - 0s 928us/sample - loss: 47.4212 - mae: 5.2558 - val_loss: 49.0108 - val_mae: 5.3411\n",
      "Epoch 86/100\n",
      "515/515 [==============================] - 0s 964us/sample - loss: 48.7943 - mae: 5.3634 - val_loss: 59.5576 - val_mae: 6.0150\n",
      "Epoch 87/100\n",
      "515/515 [==============================] - 1s 1ms/sample - loss: 48.1868 - mae: 5.4208 - val_loss: 100.6730 - val_mae: 8.0676\n",
      "Epoch 88/100\n",
      "515/515 [==============================] - 1s 1ms/sample - loss: 47.2201 - mae: 5.2659 - val_loss: 88.8068 - val_mae: 7.5887\n",
      "Epoch 89/100\n",
      "515/515 [==============================] - 0s 935us/sample - loss: 47.4877 - mae: 5.2826 - val_loss: 53.5269 - val_mae: 5.4165\n",
      "Epoch 90/100\n",
      "515/515 [==============================] - 1s 2ms/sample - loss: 46.4184 - mae: 5.3240 - val_loss: 96.8798 - val_mae: 8.3919\n",
      "Epoch 91/100\n",
      "515/515 [==============================] - 1s 981us/sample - loss: 47.1337 - mae: 5.3106 - val_loss: 59.9232 - val_mae: 5.7996\n",
      "Epoch 92/100\n",
      "515/515 [==============================] - 0s 971us/sample - loss: 47.1115 - mae: 5.2229 - val_loss: 45.9689 - val_mae: 4.9580\n",
      "Epoch 93/100\n",
      "515/515 [==============================] - 1s 1ms/sample - loss: 45.2299 - mae: 5.1802 - val_loss: 46.8822 - val_mae: 5.0699\n",
      "Epoch 94/100\n",
      "515/515 [==============================] - 0s 924us/sample - loss: 45.9506 - mae: 5.1698 - val_loss: 44.5422 - val_mae: 5.0412\n",
      "Epoch 95/100\n",
      "515/515 [==============================] - 1s 2ms/sample - loss: 44.0801 - mae: 5.1272 - val_loss: 124.6161 - val_mae: 9.1658\n",
      "Epoch 96/100\n",
      "515/515 [==============================] - 1s 1ms/sample - loss: 45.9390 - mae: 5.0757 - val_loss: 53.6195 - val_mae: 5.3882\n",
      "Epoch 97/100\n",
      "515/515 [==============================] - 1s 1ms/sample - loss: 44.9540 - mae: 5.0603 - val_loss: 53.4508 - val_mae: 5.5290\n",
      "Epoch 98/100\n",
      "515/515 [==============================] - 1s 975us/sample - loss: 42.2060 - mae: 5.0532 - val_loss: 53.1255 - val_mae: 5.3996\n",
      "Epoch 99/100\n",
      "515/515 [==============================] - 1s 1ms/sample - loss: 43.5654 - mae: 5.1093 - val_loss: 53.3271 - val_mae: 5.6004\n",
      "Epoch 100/100\n",
      "515/515 [==============================] - 1s 1ms/sample - loss: 45.8214 - mae: 5.2206 - val_loss: 57.6709 - val_mae: 5.8510\n"
     ]
    }
   ],
   "source": [
    "history = model.fit(train_data, train_labels, epochs=100, batch_size=4, validation_data=(val_data,val_labels))"
   ]
  },
  {
   "cell_type": "code",
   "execution_count": 80,
   "metadata": {},
   "outputs": [
    {
     "name": "stdout",
     "output_type": "stream",
     "text": [
      "309/1 - 0s - loss: 71.2554 - mae: 5.6181\n"
     ]
    }
   ],
   "source": [
    "mse, mae = model.evaluate(test_data,test_label, verbose=2)"
   ]
  },
  {
   "cell_type": "code",
   "execution_count": 69,
   "metadata": {},
   "outputs": [
    {
     "data": {
      "text/plain": [
       "5.541106"
      ]
     },
     "execution_count": 69,
     "metadata": {},
     "output_type": "execute_result"
    }
   ],
   "source": [
    "mae"
   ]
  },
  {
   "cell_type": "markdown",
   "metadata": {},
   "source": [
    "# Prediction"
   ]
  },
  {
   "cell_type": "code",
   "execution_count": 53,
   "metadata": {},
   "outputs": [],
   "source": [
    "i = 10\n",
    "prediction = model.predict(test_data[i].reshape(1,8))"
   ]
  },
  {
   "cell_type": "code",
   "execution_count": 54,
   "metadata": {},
   "outputs": [
    {
     "name": "stdout",
     "output_type": "stream",
     "text": [
      "Data = [531.3   0.    0.  141.8  28.2 852.1 893.7   3. ] => Predicted Value = [[40.686344]]\n",
      "Data = [531.3   0.    0.  141.8  28.2 852.1 893.7   3. ] => Actual Value    = 41.3\n"
     ]
    }
   ],
   "source": [
    "print(f'Data = {test_data[i]} => Predicted Value = {prediction}')\n",
    "print(f'Data = {test_data[i]} => Actual Value    = {test_label[i]}')"
   ]
  },
  {
   "cell_type": "code",
   "execution_count": null,
   "metadata": {},
   "outputs": [],
   "source": []
  }
 ],
 "metadata": {
  "kernelspec": {
   "display_name": "Python 3",
   "language": "python",
   "name": "python3"
  },
  "language_info": {
   "codemirror_mode": {
    "name": "ipython",
    "version": 3
   },
   "file_extension": ".py",
   "mimetype": "text/x-python",
   "name": "python",
   "nbconvert_exporter": "python",
   "pygments_lexer": "ipython3",
   "version": "3.7.4"
  }
 },
 "nbformat": 4,
 "nbformat_minor": 2
}
