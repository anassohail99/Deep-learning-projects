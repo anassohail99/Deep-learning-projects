{
 "cells": [
  {
   "cell_type": "code",
   "execution_count": 1,
   "metadata": {},
   "outputs": [],
   "source": [
    "import pandas as pd\n",
    "import tensorflow as tf\n",
    "from tensorflow.keras import models, layers, utils\n",
    "from sklearn.preprocessing import LabelEncoder\n",
    "from sklearn.utils import shuffle\n",
    "import matplotlib.pyplot as plt"
   ]
  },
  {
   "cell_type": "code",
   "execution_count": 3,
   "metadata": {},
   "outputs": [
    {
     "data": {
      "text/html": [
       "<div>\n",
       "<style scoped>\n",
       "    .dataframe tbody tr th:only-of-type {\n",
       "        vertical-align: middle;\n",
       "    }\n",
       "\n",
       "    .dataframe tbody tr th {\n",
       "        vertical-align: top;\n",
       "    }\n",
       "\n",
       "    .dataframe thead th {\n",
       "        text-align: right;\n",
       "    }\n",
       "</style>\n",
       "<table border=\"1\" class=\"dataframe\">\n",
       "  <thead>\n",
       "    <tr style=\"text-align: right;\">\n",
       "      <th></th>\n",
       "      <th>0.0200</th>\n",
       "      <th>0.0371</th>\n",
       "      <th>0.0428</th>\n",
       "      <th>0.0207</th>\n",
       "      <th>0.0954</th>\n",
       "      <th>0.0986</th>\n",
       "      <th>0.1539</th>\n",
       "      <th>0.1601</th>\n",
       "      <th>0.3109</th>\n",
       "      <th>0.2111</th>\n",
       "      <th>...</th>\n",
       "      <th>0.0027</th>\n",
       "      <th>0.0065</th>\n",
       "      <th>0.0159</th>\n",
       "      <th>0.0072</th>\n",
       "      <th>0.0167</th>\n",
       "      <th>0.0180</th>\n",
       "      <th>0.0084</th>\n",
       "      <th>0.0090</th>\n",
       "      <th>0.0032</th>\n",
       "      <th>R</th>\n",
       "    </tr>\n",
       "  </thead>\n",
       "  <tbody>\n",
       "    <tr>\n",
       "      <td>0</td>\n",
       "      <td>0.0453</td>\n",
       "      <td>0.0523</td>\n",
       "      <td>0.0843</td>\n",
       "      <td>0.0689</td>\n",
       "      <td>0.1183</td>\n",
       "      <td>0.2583</td>\n",
       "      <td>0.2156</td>\n",
       "      <td>0.3481</td>\n",
       "      <td>0.3337</td>\n",
       "      <td>0.2872</td>\n",
       "      <td>...</td>\n",
       "      <td>0.0084</td>\n",
       "      <td>0.0089</td>\n",
       "      <td>0.0048</td>\n",
       "      <td>0.0094</td>\n",
       "      <td>0.0191</td>\n",
       "      <td>0.0140</td>\n",
       "      <td>0.0049</td>\n",
       "      <td>0.0052</td>\n",
       "      <td>0.0044</td>\n",
       "      <td>R</td>\n",
       "    </tr>\n",
       "    <tr>\n",
       "      <td>1</td>\n",
       "      <td>0.0262</td>\n",
       "      <td>0.0582</td>\n",
       "      <td>0.1099</td>\n",
       "      <td>0.1083</td>\n",
       "      <td>0.0974</td>\n",
       "      <td>0.2280</td>\n",
       "      <td>0.2431</td>\n",
       "      <td>0.3771</td>\n",
       "      <td>0.5598</td>\n",
       "      <td>0.6194</td>\n",
       "      <td>...</td>\n",
       "      <td>0.0232</td>\n",
       "      <td>0.0166</td>\n",
       "      <td>0.0095</td>\n",
       "      <td>0.0180</td>\n",
       "      <td>0.0244</td>\n",
       "      <td>0.0316</td>\n",
       "      <td>0.0164</td>\n",
       "      <td>0.0095</td>\n",
       "      <td>0.0078</td>\n",
       "      <td>R</td>\n",
       "    </tr>\n",
       "    <tr>\n",
       "      <td>2</td>\n",
       "      <td>0.0100</td>\n",
       "      <td>0.0171</td>\n",
       "      <td>0.0623</td>\n",
       "      <td>0.0205</td>\n",
       "      <td>0.0205</td>\n",
       "      <td>0.0368</td>\n",
       "      <td>0.1098</td>\n",
       "      <td>0.1276</td>\n",
       "      <td>0.0598</td>\n",
       "      <td>0.1264</td>\n",
       "      <td>...</td>\n",
       "      <td>0.0121</td>\n",
       "      <td>0.0036</td>\n",
       "      <td>0.0150</td>\n",
       "      <td>0.0085</td>\n",
       "      <td>0.0073</td>\n",
       "      <td>0.0050</td>\n",
       "      <td>0.0044</td>\n",
       "      <td>0.0040</td>\n",
       "      <td>0.0117</td>\n",
       "      <td>R</td>\n",
       "    </tr>\n",
       "    <tr>\n",
       "      <td>3</td>\n",
       "      <td>0.0762</td>\n",
       "      <td>0.0666</td>\n",
       "      <td>0.0481</td>\n",
       "      <td>0.0394</td>\n",
       "      <td>0.0590</td>\n",
       "      <td>0.0649</td>\n",
       "      <td>0.1209</td>\n",
       "      <td>0.2467</td>\n",
       "      <td>0.3564</td>\n",
       "      <td>0.4459</td>\n",
       "      <td>...</td>\n",
       "      <td>0.0031</td>\n",
       "      <td>0.0054</td>\n",
       "      <td>0.0105</td>\n",
       "      <td>0.0110</td>\n",
       "      <td>0.0015</td>\n",
       "      <td>0.0072</td>\n",
       "      <td>0.0048</td>\n",
       "      <td>0.0107</td>\n",
       "      <td>0.0094</td>\n",
       "      <td>R</td>\n",
       "    </tr>\n",
       "    <tr>\n",
       "      <td>4</td>\n",
       "      <td>0.0286</td>\n",
       "      <td>0.0453</td>\n",
       "      <td>0.0277</td>\n",
       "      <td>0.0174</td>\n",
       "      <td>0.0384</td>\n",
       "      <td>0.0990</td>\n",
       "      <td>0.1201</td>\n",
       "      <td>0.1833</td>\n",
       "      <td>0.2105</td>\n",
       "      <td>0.3039</td>\n",
       "      <td>...</td>\n",
       "      <td>0.0045</td>\n",
       "      <td>0.0014</td>\n",
       "      <td>0.0038</td>\n",
       "      <td>0.0013</td>\n",
       "      <td>0.0089</td>\n",
       "      <td>0.0057</td>\n",
       "      <td>0.0027</td>\n",
       "      <td>0.0051</td>\n",
       "      <td>0.0062</td>\n",
       "      <td>R</td>\n",
       "    </tr>\n",
       "  </tbody>\n",
       "</table>\n",
       "<p>5 rows × 61 columns</p>\n",
       "</div>"
      ],
      "text/plain": [
       "   0.0200  0.0371  0.0428  0.0207  0.0954  0.0986  0.1539  0.1601  0.3109  \\\n",
       "0  0.0453  0.0523  0.0843  0.0689  0.1183  0.2583  0.2156  0.3481  0.3337   \n",
       "1  0.0262  0.0582  0.1099  0.1083  0.0974  0.2280  0.2431  0.3771  0.5598   \n",
       "2  0.0100  0.0171  0.0623  0.0205  0.0205  0.0368  0.1098  0.1276  0.0598   \n",
       "3  0.0762  0.0666  0.0481  0.0394  0.0590  0.0649  0.1209  0.2467  0.3564   \n",
       "4  0.0286  0.0453  0.0277  0.0174  0.0384  0.0990  0.1201  0.1833  0.2105   \n",
       "\n",
       "   0.2111  ...  0.0027  0.0065  0.0159  0.0072  0.0167  0.0180  0.0084  \\\n",
       "0  0.2872  ...  0.0084  0.0089  0.0048  0.0094  0.0191  0.0140  0.0049   \n",
       "1  0.6194  ...  0.0232  0.0166  0.0095  0.0180  0.0244  0.0316  0.0164   \n",
       "2  0.1264  ...  0.0121  0.0036  0.0150  0.0085  0.0073  0.0050  0.0044   \n",
       "3  0.4459  ...  0.0031  0.0054  0.0105  0.0110  0.0015  0.0072  0.0048   \n",
       "4  0.3039  ...  0.0045  0.0014  0.0038  0.0013  0.0089  0.0057  0.0027   \n",
       "\n",
       "   0.0090  0.0032  R  \n",
       "0  0.0052  0.0044  R  \n",
       "1  0.0095  0.0078  R  \n",
       "2  0.0040  0.0117  R  \n",
       "3  0.0107  0.0094  R  \n",
       "4  0.0051  0.0062  R  \n",
       "\n",
       "[5 rows x 61 columns]"
      ]
     },
     "execution_count": 3,
     "metadata": {},
     "output_type": "execute_result"
    }
   ],
   "source": [
    "df = pd.read_csv('sonar.csv')\n",
    "df.head()"
   ]
  },
  {
   "cell_type": "code",
   "execution_count": 4,
   "metadata": {},
   "outputs": [
    {
     "data": {
      "text/html": [
       "<div>\n",
       "<style scoped>\n",
       "    .dataframe tbody tr th:only-of-type {\n",
       "        vertical-align: middle;\n",
       "    }\n",
       "\n",
       "    .dataframe tbody tr th {\n",
       "        vertical-align: top;\n",
       "    }\n",
       "\n",
       "    .dataframe thead th {\n",
       "        text-align: right;\n",
       "    }\n",
       "</style>\n",
       "<table border=\"1\" class=\"dataframe\">\n",
       "  <thead>\n",
       "    <tr style=\"text-align: right;\">\n",
       "      <th></th>\n",
       "      <th>0.0200</th>\n",
       "      <th>0.0371</th>\n",
       "      <th>0.0428</th>\n",
       "      <th>0.0207</th>\n",
       "      <th>0.0954</th>\n",
       "      <th>0.0986</th>\n",
       "      <th>0.1539</th>\n",
       "      <th>0.1601</th>\n",
       "      <th>0.3109</th>\n",
       "      <th>0.2111</th>\n",
       "      <th>...</th>\n",
       "      <th>0.0027</th>\n",
       "      <th>0.0065</th>\n",
       "      <th>0.0159</th>\n",
       "      <th>0.0072</th>\n",
       "      <th>0.0167</th>\n",
       "      <th>0.0180</th>\n",
       "      <th>0.0084</th>\n",
       "      <th>0.0090</th>\n",
       "      <th>0.0032</th>\n",
       "      <th>R</th>\n",
       "    </tr>\n",
       "  </thead>\n",
       "  <tbody>\n",
       "    <tr>\n",
       "      <td>52</td>\n",
       "      <td>0.0293</td>\n",
       "      <td>0.0378</td>\n",
       "      <td>0.0257</td>\n",
       "      <td>0.0062</td>\n",
       "      <td>0.0130</td>\n",
       "      <td>0.0612</td>\n",
       "      <td>0.0895</td>\n",
       "      <td>0.1107</td>\n",
       "      <td>0.0973</td>\n",
       "      <td>0.0751</td>\n",
       "      <td>...</td>\n",
       "      <td>0.0065</td>\n",
       "      <td>0.0072</td>\n",
       "      <td>0.0108</td>\n",
       "      <td>0.0051</td>\n",
       "      <td>0.0102</td>\n",
       "      <td>0.0041</td>\n",
       "      <td>0.0055</td>\n",
       "      <td>0.0050</td>\n",
       "      <td>0.0087</td>\n",
       "      <td>R</td>\n",
       "    </tr>\n",
       "    <tr>\n",
       "      <td>69</td>\n",
       "      <td>0.0065</td>\n",
       "      <td>0.0122</td>\n",
       "      <td>0.0068</td>\n",
       "      <td>0.0108</td>\n",
       "      <td>0.0217</td>\n",
       "      <td>0.0284</td>\n",
       "      <td>0.0527</td>\n",
       "      <td>0.0575</td>\n",
       "      <td>0.1054</td>\n",
       "      <td>0.1109</td>\n",
       "      <td>...</td>\n",
       "      <td>0.0069</td>\n",
       "      <td>0.0025</td>\n",
       "      <td>0.0027</td>\n",
       "      <td>0.0052</td>\n",
       "      <td>0.0036</td>\n",
       "      <td>0.0026</td>\n",
       "      <td>0.0036</td>\n",
       "      <td>0.0006</td>\n",
       "      <td>0.0035</td>\n",
       "      <td>R</td>\n",
       "    </tr>\n",
       "    <tr>\n",
       "      <td>87</td>\n",
       "      <td>0.0274</td>\n",
       "      <td>0.0242</td>\n",
       "      <td>0.0621</td>\n",
       "      <td>0.0560</td>\n",
       "      <td>0.1129</td>\n",
       "      <td>0.0973</td>\n",
       "      <td>0.1823</td>\n",
       "      <td>0.1745</td>\n",
       "      <td>0.1440</td>\n",
       "      <td>0.1808</td>\n",
       "      <td>...</td>\n",
       "      <td>0.0113</td>\n",
       "      <td>0.0108</td>\n",
       "      <td>0.0085</td>\n",
       "      <td>0.0047</td>\n",
       "      <td>0.0074</td>\n",
       "      <td>0.0104</td>\n",
       "      <td>0.0161</td>\n",
       "      <td>0.0220</td>\n",
       "      <td>0.0173</td>\n",
       "      <td>R</td>\n",
       "    </tr>\n",
       "    <tr>\n",
       "      <td>0</td>\n",
       "      <td>0.0453</td>\n",
       "      <td>0.0523</td>\n",
       "      <td>0.0843</td>\n",
       "      <td>0.0689</td>\n",
       "      <td>0.1183</td>\n",
       "      <td>0.2583</td>\n",
       "      <td>0.2156</td>\n",
       "      <td>0.3481</td>\n",
       "      <td>0.3337</td>\n",
       "      <td>0.2872</td>\n",
       "      <td>...</td>\n",
       "      <td>0.0084</td>\n",
       "      <td>0.0089</td>\n",
       "      <td>0.0048</td>\n",
       "      <td>0.0094</td>\n",
       "      <td>0.0191</td>\n",
       "      <td>0.0140</td>\n",
       "      <td>0.0049</td>\n",
       "      <td>0.0052</td>\n",
       "      <td>0.0044</td>\n",
       "      <td>R</td>\n",
       "    </tr>\n",
       "    <tr>\n",
       "      <td>101</td>\n",
       "      <td>0.0587</td>\n",
       "      <td>0.1210</td>\n",
       "      <td>0.1268</td>\n",
       "      <td>0.1498</td>\n",
       "      <td>0.1436</td>\n",
       "      <td>0.0561</td>\n",
       "      <td>0.0832</td>\n",
       "      <td>0.0672</td>\n",
       "      <td>0.1372</td>\n",
       "      <td>0.2352</td>\n",
       "      <td>...</td>\n",
       "      <td>0.0331</td>\n",
       "      <td>0.0111</td>\n",
       "      <td>0.0088</td>\n",
       "      <td>0.0158</td>\n",
       "      <td>0.0122</td>\n",
       "      <td>0.0038</td>\n",
       "      <td>0.0101</td>\n",
       "      <td>0.0228</td>\n",
       "      <td>0.0124</td>\n",
       "      <td>M</td>\n",
       "    </tr>\n",
       "  </tbody>\n",
       "</table>\n",
       "<p>5 rows × 61 columns</p>\n",
       "</div>"
      ],
      "text/plain": [
       "     0.0200  0.0371  0.0428  0.0207  0.0954  0.0986  0.1539  0.1601  0.3109  \\\n",
       "52   0.0293  0.0378  0.0257  0.0062  0.0130  0.0612  0.0895  0.1107  0.0973   \n",
       "69   0.0065  0.0122  0.0068  0.0108  0.0217  0.0284  0.0527  0.0575  0.1054   \n",
       "87   0.0274  0.0242  0.0621  0.0560  0.1129  0.0973  0.1823  0.1745  0.1440   \n",
       "0    0.0453  0.0523  0.0843  0.0689  0.1183  0.2583  0.2156  0.3481  0.3337   \n",
       "101  0.0587  0.1210  0.1268  0.1498  0.1436  0.0561  0.0832  0.0672  0.1372   \n",
       "\n",
       "     0.2111  ...  0.0027  0.0065  0.0159  0.0072  0.0167  0.0180  0.0084  \\\n",
       "52   0.0751  ...  0.0065  0.0072  0.0108  0.0051  0.0102  0.0041  0.0055   \n",
       "69   0.1109  ...  0.0069  0.0025  0.0027  0.0052  0.0036  0.0026  0.0036   \n",
       "87   0.1808  ...  0.0113  0.0108  0.0085  0.0047  0.0074  0.0104  0.0161   \n",
       "0    0.2872  ...  0.0084  0.0089  0.0048  0.0094  0.0191  0.0140  0.0049   \n",
       "101  0.2352  ...  0.0331  0.0111  0.0088  0.0158  0.0122  0.0038  0.0101   \n",
       "\n",
       "     0.0090  0.0032  R  \n",
       "52   0.0050  0.0087  R  \n",
       "69   0.0006  0.0035  R  \n",
       "87   0.0220  0.0173  R  \n",
       "0    0.0052  0.0044  R  \n",
       "101  0.0228  0.0124  M  \n",
       "\n",
       "[5 rows x 61 columns]"
      ]
     },
     "execution_count": 4,
     "metadata": {},
     "output_type": "execute_result"
    }
   ],
   "source": [
    "df = shuffle(df)\n",
    "df.head()"
   ]
  },
  {
   "cell_type": "code",
   "execution_count": 5,
   "metadata": {},
   "outputs": [
    {
     "name": "stdout",
     "output_type": "stream",
     "text": [
      "[[0.0293 0.0378 0.0257 ... 0.005 0.0087 'R']\n",
      " [0.0065 0.0122 0.0068 ... 0.0006 0.0035 'R']\n",
      " [0.0274 0.0242 0.0621 ... 0.022 0.0173 'R']\n",
      " ...\n",
      " [0.0195 0.0213 0.0058 ... 0.0021 0.0053 'R']\n",
      " [0.0192 0.0607 0.0378 ... 0.0112 0.0075 'R']\n",
      " [0.0253 0.0808 0.0507 ... 0.0081 0.0053 'R']]\n"
     ]
    }
   ],
   "source": [
    "dataset = df.values\n",
    "print(dataset)\n"
   ]
  },
  {
   "cell_type": "code",
   "execution_count": 6,
   "metadata": {},
   "outputs": [
    {
     "data": {
      "text/plain": [
       "(207, 61)"
      ]
     },
     "execution_count": 6,
     "metadata": {},
     "output_type": "execute_result"
    }
   ],
   "source": [
    "dataset.shape"
   ]
  },
  {
   "cell_type": "code",
   "execution_count": null,
   "metadata": {},
   "outputs": [],
   "source": []
  },
  {
   "cell_type": "code",
   "execution_count": 7,
   "metadata": {},
   "outputs": [
    {
     "name": "stdout",
     "output_type": "stream",
     "text": [
      "[0.0293 0.0378 0.0257 0.0062 0.013  0.0612 0.0895 0.1107 0.0973 0.0751\n",
      " 0.0528 0.1209 0.1763 0.2039 0.2727 0.2321 0.2676 0.2934 0.3295 0.491\n",
      " 0.5402 0.6257 0.6826 0.7527 0.8504 0.8938 0.9928 0.9134 0.708  0.6318\n",
      " 0.6126 0.4638 0.2797 0.1721 0.1665 0.2561 0.2735 0.3209 0.2724 0.188\n",
      " 0.1552 0.2522 0.2121 0.1801 0.1473 0.0681 0.1091 0.0919 0.0397 0.0093\n",
      " 0.0076 0.0065 0.0072 0.0108 0.0051 0.0102 0.0041 0.0055 0.005  0.0087]\n",
      "R\n"
     ]
    }
   ],
   "source": [
    "x = dataset[:,:60].astype('float32')\n",
    "y = dataset[:,60]\n",
    "print(x[0])\n",
    "print(y[0])"
   ]
  },
  {
   "cell_type": "code",
   "execution_count": 8,
   "metadata": {},
   "outputs": [
    {
     "data": {
      "text/plain": [
       "array([1, 1, 1, 1, 0, 0, 0, 0, 0, 0, 0, 0, 0, 0, 1, 0, 1, 1, 1, 0, 0, 0,\n",
       "       0, 1, 0, 0, 0, 0, 0, 1, 0, 0, 0, 1, 1, 1, 0, 1, 0, 0, 0, 0, 0, 1,\n",
       "       0, 0, 0, 1, 1, 1, 0, 0, 1, 1, 1, 0, 1, 0, 0, 0, 1, 0, 0, 0, 1, 1,\n",
       "       1, 1, 1, 1, 0, 1, 0, 0, 0, 1, 1, 0, 0, 0, 0, 0, 0, 0, 1, 0, 0, 1,\n",
       "       0, 1, 0, 0, 0, 0, 0, 0, 1, 0, 0, 1, 0, 0, 1, 1, 0, 0, 0, 1, 0, 1,\n",
       "       0, 1, 0, 1, 0, 0, 1, 1, 1, 1, 0, 0, 0, 1, 1, 1, 1, 1, 1, 0, 0, 1,\n",
       "       1, 0, 1, 1, 0, 1, 0, 0, 0, 0, 0, 1, 1, 1, 0, 0, 1, 1, 0, 0, 1, 1,\n",
       "       0, 1, 0, 1, 0, 1, 0, 0, 1, 1, 1, 1, 0, 0, 0, 0, 1, 1, 1, 0, 1, 0,\n",
       "       0, 0, 1, 1, 1, 0, 1, 0, 1, 0, 1, 0, 0, 1, 0, 1, 1, 1, 1, 0, 1, 1,\n",
       "       0, 1, 1, 1, 1, 0, 1, 1, 1])"
      ]
     },
     "execution_count": 8,
     "metadata": {},
     "output_type": "execute_result"
    }
   ],
   "source": [
    "le = LabelEncoder()\n",
    "encoded_y = le.fit_transform(y)\n",
    "encoded_y"
   ]
  },
  {
   "cell_type": "code",
   "execution_count": 9,
   "metadata": {},
   "outputs": [
    {
     "name": "stdout",
     "output_type": "stream",
     "text": [
      "Train Data:  (145, 60)\n",
      "Test Data:  (62, 60)\n"
     ]
    }
   ],
   "source": [
    "train_data = x[:145,:]\n",
    "train_labels = encoded_y[:145]\n",
    "test_data = x[145:,:]\n",
    "test_labels = encoded_y[145:]\n",
    "print('Train Data: ',train_data.shape)\n",
    "print('Test Data: ',test_data.shape)"
   ]
  },
  {
   "cell_type": "code",
   "execution_count": 10,
   "metadata": {},
   "outputs": [],
   "source": [
    "model = models.Sequential()\n",
    "model.add(layers.Dense(60, activation='relu', input_shape=(60,)))\n",
    "model.add(layers.Dense(1, activation='sigmoid'))"
   ]
  },
  {
   "cell_type": "code",
   "execution_count": 11,
   "metadata": {},
   "outputs": [],
   "source": [
    "model.compile(optimizer='Adam',\n",
    "              loss='binary_crossentropy',\n",
    "              metrics=['acc'])"
   ]
  },
  {
   "cell_type": "code",
   "execution_count": 12,
   "metadata": {},
   "outputs": [
    {
     "name": "stdout",
     "output_type": "stream",
     "text": [
      "Train on 145 samples\n",
      "Epoch 1/40\n",
      "145/145 [==============================] - 2s 16ms/sample - loss: 0.6771 - acc: 0.5931\n",
      "Epoch 2/40\n",
      "145/145 [==============================] - 1s 5ms/sample - loss: 0.6497 - acc: 0.6069\n",
      "Epoch 3/40\n",
      "145/145 [==============================] - 1s 4ms/sample - loss: 0.6198 - acc: 0.6207\n",
      "Epoch 4/40\n",
      "145/145 [==============================] - 0s 3ms/sample - loss: 0.5846 - acc: 0.7655\n",
      "Epoch 5/40\n",
      "145/145 [==============================] - 1s 4ms/sample - loss: 0.5770 - acc: 0.7103\n",
      "Epoch 6/40\n",
      "145/145 [==============================] - 1s 4ms/sample - loss: 0.5489 - acc: 0.7310\n",
      "Epoch 7/40\n",
      "145/145 [==============================] - 1s 4ms/sample - loss: 0.5267 - acc: 0.7862\n",
      "Epoch 8/40\n",
      "145/145 [==============================] - 0s 2ms/sample - loss: 0.5051 - acc: 0.7517\n",
      "Epoch 9/40\n",
      "145/145 [==============================] - 0s 3ms/sample - loss: 0.4963 - acc: 0.7931\n",
      "Epoch 10/40\n",
      "145/145 [==============================] - 1s 4ms/sample - loss: 0.4787 - acc: 0.8069\n",
      "Epoch 11/40\n",
      "145/145 [==============================] - 0s 3ms/sample - loss: 0.4620 - acc: 0.8207\n",
      "Epoch 12/40\n",
      "145/145 [==============================] - 0s 3ms/sample - loss: 0.4559 - acc: 0.8414\n",
      "Epoch 13/40\n",
      "145/145 [==============================] - 0s 3ms/sample - loss: 0.4391 - acc: 0.8414\n",
      "Epoch 14/40\n",
      "145/145 [==============================] - 0s 3ms/sample - loss: 0.4372 - acc: 0.8276\n",
      "Epoch 15/40\n",
      "145/145 [==============================] - 1s 4ms/sample - loss: 0.4090 - acc: 0.8207\n",
      "Epoch 16/40\n",
      "145/145 [==============================] - 1s 5ms/sample - loss: 0.4183 - acc: 0.8414\n",
      "Epoch 17/40\n",
      "145/145 [==============================] - 1s 6ms/sample - loss: 0.4005 - acc: 0.8345\n",
      "Epoch 18/40\n",
      "145/145 [==============================] - 0s 3ms/sample - loss: 0.3948 - acc: 0.8483\n",
      "Epoch 19/40\n",
      "145/145 [==============================] - 0s 3ms/sample - loss: 0.3813 - acc: 0.8552\n",
      "Epoch 20/40\n",
      "145/145 [==============================] - 0s 3ms/sample - loss: 0.3774 - acc: 0.8483\n",
      "Epoch 21/40\n",
      "145/145 [==============================] - 1s 4ms/sample - loss: 0.3708 - acc: 0.8552\n",
      "Epoch 22/40\n",
      "145/145 [==============================] - 0s 3ms/sample - loss: 0.3862 - acc: 0.8345\n",
      "Epoch 23/40\n",
      "145/145 [==============================] - 0s 3ms/sample - loss: 0.3489 - acc: 0.8621\n",
      "Epoch 24/40\n",
      "145/145 [==============================] - 1s 4ms/sample - loss: 0.3504 - acc: 0.8621\n",
      "Epoch 25/40\n",
      "145/145 [==============================] - 0s 3ms/sample - loss: 0.3496 - acc: 0.8552\n",
      "Epoch 26/40\n",
      "145/145 [==============================] - 1s 5ms/sample - loss: 0.3352 - acc: 0.8552\n",
      "Epoch 27/40\n",
      "145/145 [==============================] - 1s 5ms/sample - loss: 0.3385 - acc: 0.8276\n",
      "Epoch 28/40\n",
      "145/145 [==============================] - 1s 5ms/sample - loss: 0.3222 - acc: 0.8759\n",
      "Epoch 29/40\n",
      "145/145 [==============================] - 1s 4ms/sample - loss: 0.3128 - acc: 0.8828\n",
      "Epoch 30/40\n",
      "145/145 [==============================] - 1s 4ms/sample - loss: 0.3063 - acc: 0.8828\n",
      "Epoch 31/40\n",
      "145/145 [==============================] - 1s 4ms/sample - loss: 0.3143 - acc: 0.8552\n",
      "Epoch 32/40\n",
      "145/145 [==============================] - 1s 4ms/sample - loss: 0.2982 - acc: 0.8759\n",
      "Epoch 33/40\n",
      "145/145 [==============================] - 1s 5ms/sample - loss: 0.2952 - acc: 0.8828\n",
      "Epoch 34/40\n",
      "145/145 [==============================] - 1s 4ms/sample - loss: 0.2849 - acc: 0.8828\n",
      "Epoch 35/40\n",
      "145/145 [==============================] - 0s 3ms/sample - loss: 0.2961 - acc: 0.8828\n",
      "Epoch 36/40\n",
      "145/145 [==============================] - 1s 4ms/sample - loss: 0.2744 - acc: 0.8897\n",
      "Epoch 37/40\n",
      "145/145 [==============================] - 0s 3ms/sample - loss: 0.2704 - acc: 0.9034\n",
      "Epoch 38/40\n",
      "145/145 [==============================] - 0s 3ms/sample - loss: 0.2593 - acc: 0.8897\n",
      "Epoch 39/40\n",
      "145/145 [==============================] - 0s 3ms/sample - loss: 0.2577 - acc: 0.8966\n",
      "Epoch 40/40\n",
      "145/145 [==============================] - 1s 4ms/sample - loss: 0.2530 - acc: 0.9034\n"
     ]
    },
    {
     "data": {
      "text/plain": [
       "<tensorflow.python.keras.callbacks.History at 0x7f77205d6a50>"
      ]
     },
     "execution_count": 12,
     "metadata": {},
     "output_type": "execute_result"
    }
   ],
   "source": [
    "model.fit(train_data, train_labels, epochs=40, batch_size=2)"
   ]
  },
  {
   "cell_type": "code",
   "execution_count": 15,
   "metadata": {},
   "outputs": [
    {
     "name": "stdout",
     "output_type": "stream",
     "text": [
      "41/1 - 0s - loss: 0.3529 - acc: 0.8049\n",
      "0.80487806\n"
     ]
    }
   ],
   "source": [
    "loss, acc = model.evaluate(test_data, test_labels, verbose=2)\n",
    "print(acc)"
   ]
  },
  {
   "cell_type": "markdown",
   "metadata": {},
   "source": [
    "# Training model with validation"
   ]
  },
  {
   "cell_type": "code",
   "execution_count": 21,
   "metadata": {},
   "outputs": [],
   "source": [
    "train_data = x[:145,:]\n",
    "train_labels = encoded_y[:145]\n",
    "val_data = x[145:166,:]\n",
    "val_labels = encoded_y[145:166]\n",
    "test_data = x[166:,:]\n",
    "test_labels = encoded_y[166:]"
   ]
  },
  {
   "cell_type": "code",
   "execution_count": 22,
   "metadata": {},
   "outputs": [
    {
     "name": "stdout",
     "output_type": "stream",
     "text": [
      "Train Data:  (145, 60)\n",
      "Validation Data:  (21, 60)\n",
      "Test Data: (41, 60)\n"
     ]
    }
   ],
   "source": [
    "print('Train Data: ',train_data.shape)\n",
    "print('Validation Data: ',val_data.shape)\n",
    "print('Test Data:', test_data.shape)"
   ]
  },
  {
   "cell_type": "code",
   "execution_count": 40,
   "metadata": {},
   "outputs": [],
   "source": [
    "model = models.Sequential()\n",
    "model.add(layers.Dense(60, activation='relu', input_shape=(60,)))\n",
    "model.add(layers.Dense(1, activation='sigmoid'))\n",
    "\n",
    "model.compile(optimizer='Adam',\n",
    "              loss='binary_crossentropy',\n",
    "              metrics=['acc'])"
   ]
  },
  {
   "cell_type": "code",
   "execution_count": 41,
   "metadata": {},
   "outputs": [
    {
     "name": "stdout",
     "output_type": "stream",
     "text": [
      "Train on 145 samples, validate on 21 samples\n",
      "Epoch 1/20\n",
      "145/145 [==============================] - 1s 10ms/sample - loss: 0.7044 - acc: 0.4966 - val_loss: 0.6992 - val_acc: 0.4762\n",
      "Epoch 2/20\n",
      "145/145 [==============================] - 0s 3ms/sample - loss: 0.6508 - acc: 0.6069 - val_loss: 0.7082 - val_acc: 0.4762\n",
      "Epoch 3/20\n",
      "145/145 [==============================] - 0s 3ms/sample - loss: 0.6366 - acc: 0.6276 - val_loss: 0.6789 - val_acc: 0.5238\n",
      "Epoch 4/20\n",
      "145/145 [==============================] - 1s 4ms/sample - loss: 0.6218 - acc: 0.6207 - val_loss: 0.6591 - val_acc: 0.6190\n",
      "Epoch 5/20\n",
      "145/145 [==============================] - 1s 4ms/sample - loss: 0.6057 - acc: 0.7034 - val_loss: 0.6638 - val_acc: 0.6190\n",
      "Epoch 6/20\n",
      "145/145 [==============================] - 0s 3ms/sample - loss: 0.5887 - acc: 0.7103 - val_loss: 0.6094 - val_acc: 0.7143\n",
      "Epoch 7/20\n",
      "145/145 [==============================] - 0s 3ms/sample - loss: 0.5791 - acc: 0.7034 - val_loss: 0.6129 - val_acc: 0.6190\n",
      "Epoch 8/20\n",
      "145/145 [==============================] - 0s 3ms/sample - loss: 0.5639 - acc: 0.7172 - val_loss: 0.6019 - val_acc: 0.6190\n",
      "Epoch 9/20\n",
      "145/145 [==============================] - 1s 4ms/sample - loss: 0.5509 - acc: 0.7655 - val_loss: 0.5935 - val_acc: 0.6190\n",
      "Epoch 10/20\n",
      "145/145 [==============================] - 1s 4ms/sample - loss: 0.5374 - acc: 0.7862 - val_loss: 0.6053 - val_acc: 0.6190\n",
      "Epoch 11/20\n",
      "145/145 [==============================] - 1s 4ms/sample - loss: 0.5286 - acc: 0.7448 - val_loss: 0.5760 - val_acc: 0.6190\n",
      "Epoch 12/20\n",
      "145/145 [==============================] - 1s 4ms/sample - loss: 0.5151 - acc: 0.7724 - val_loss: 0.5626 - val_acc: 0.6667\n",
      "Epoch 13/20\n",
      "145/145 [==============================] - 0s 3ms/sample - loss: 0.5072 - acc: 0.7862 - val_loss: 0.5421 - val_acc: 0.7619\n",
      "Epoch 14/20\n",
      "145/145 [==============================] - 0s 3ms/sample - loss: 0.5011 - acc: 0.8069 - val_loss: 0.5473 - val_acc: 0.7143\n",
      "Epoch 15/20\n",
      "145/145 [==============================] - 1s 4ms/sample - loss: 0.4859 - acc: 0.8069 - val_loss: 0.5700 - val_acc: 0.6190\n",
      "Epoch 16/20\n",
      "145/145 [==============================] - 1s 4ms/sample - loss: 0.4766 - acc: 0.7862 - val_loss: 0.5217 - val_acc: 0.7619\n",
      "Epoch 17/20\n",
      "145/145 [==============================] - 0s 3ms/sample - loss: 0.4693 - acc: 0.8345 - val_loss: 0.5695 - val_acc: 0.6190\n",
      "Epoch 18/20\n",
      "145/145 [==============================] - 0s 3ms/sample - loss: 0.4579 - acc: 0.8345 - val_loss: 0.5522 - val_acc: 0.6190\n",
      "Epoch 19/20\n",
      "145/145 [==============================] - 1s 5ms/sample - loss: 0.4512 - acc: 0.8345 - val_loss: 0.5546 - val_acc: 0.6190\n",
      "Epoch 20/20\n",
      "145/145 [==============================] - 1s 4ms/sample - loss: 0.4457 - acc: 0.8138 - val_loss: 0.5315 - val_acc: 0.6667\n"
     ]
    }
   ],
   "source": [
    "history = model.fit(train_data, train_labels, epochs=20, batch_size=4, validation_data=(val_data,val_labels))\n"
   ]
  },
  {
   "cell_type": "code",
   "execution_count": 26,
   "metadata": {},
   "outputs": [],
   "source": [
    "his_dict = history.history"
   ]
  },
  {
   "cell_type": "code",
   "execution_count": 27,
   "metadata": {},
   "outputs": [],
   "source": [
    "loss = his_dict['loss']\n",
    "val_loss = his_dict['val_loss']\n",
    "acc = his_dict['acc']\n",
    "val_acc = his_dict['val_acc']\n",
    "epochs = range(1,len(loss)+1)"
   ]
  },
  {
   "cell_type": "code",
   "execution_count": 43,
   "metadata": {},
   "outputs": [
    {
     "data": {
      "image/png": "[encoded data removed]",
      "text/plain": [
       "<Figure size 432x288 with 1 Axes>"
      ]
     },
     "metadata": {
      "needs_background": "light"
     },
     "output_type": "display_data"
    }
   ],
   "source": [
    "\n",
    "plt.plot(epochs,loss,'bo',label='Training Loss')\n",
    "plt.plot(epochs,val_loss,'b',label='Validation Loss')\n",
    "plt.xlabel('Epochs')\n",
    "plt.ylabel('Loss')\n",
    "plt.title('Training and Validation Loss')\n",
    "plt.legend()\n",
    "plt.show()"
   ]
  },
  {
   "cell_type": "code",
   "execution_count": 42,
   "metadata": {},
   "outputs": [
    {
     "data": {
      "image/png": "[encoded data removed]",
      "text/plain": [
       "<Figure size 432x288 with 1 Axes>"
      ]
     },
     "metadata": {
      "needs_background": "light"
     },
     "output_type": "display_data"
    }
   ],
   "source": [
    "plt.clf()\n",
    "\n",
    "plt.plot(epochs,acc,'bo',label='Training Accuracy')\n",
    "plt.plot(epochs,val_acc,'b',label='Validation Accuracy')\n",
    "plt.xlabel('Epochs')\n",
    "plt.ylabel('Accuracy')\n",
    "plt.title('Training and Validation Accuracy')\n",
    "plt.legend()\n",
    "plt.show()"
   ]
  },
  {
   "cell_type": "code",
   "execution_count": 30,
   "metadata": {},
   "outputs": [
    {
     "name": "stdout",
     "output_type": "stream",
     "text": [
      "\r",
      "41/1 [==============================================================================================================================================================================================================================================================================================================================================================================================================================================================================================================================================================================================================================================================================================================================================================================================================================================================================================================================================================================================================================================================================================================================================================================================================================================================================] - 0s 602us/sample - loss: 0.3927 - acc: 0.8049\n"
     ]
    },
    {
     "data": {
      "text/plain": [
       "[0.3472280422361886, 0.80487806]"
      ]
     },
     "execution_count": 30,
     "metadata": {},
     "output_type": "execute_result"
    }
   ],
   "source": [
    "model.evaluate(test_data, test_labels)"
   ]
  },
  {
   "cell_type": "markdown",
   "metadata": {},
   "source": [
    "# Appling k-Fold Validation\n"
   ]
  },
  {
   "cell_type": "code",
   "execution_count": 32,
   "metadata": {},
   "outputs": [],
   "source": [
    "from tensorflow.keras.wrappers.scikit_learn import KerasClassifier\n",
    "from sklearn.model_selection import cross_val_score, StratifiedKFold\n",
    "from sklearn.preprocessing import StandardScaler\n",
    "from sklearn.pipeline import Pipeline\n",
    "import numpy as np"
   ]
  },
  {
   "cell_type": "code",
   "execution_count": 33,
   "metadata": {},
   "outputs": [],
   "source": [
    "seed = 7\n",
    "np.random.seed(seed)"
   ]
  },
  {
   "cell_type": "code",
   "execution_count": 35,
   "metadata": {},
   "outputs": [],
   "source": [
    "def model():\n",
    "    model = models.Sequential()\n",
    "    model.add(layers.Dense(60, activation='relu', input_shape=(60,)))\n",
    "    model.add(layers.Dense(1, activation='sigmoid'))\n",
    "\n",
    "    model.compile(optimizer='Adam',\n",
    "                  loss='binary_crossentropy',\n",
    "                  metrics=['acc'])\n",
    "    return model"
   ]
  },
  {
   "cell_type": "code",
   "execution_count": 36,
   "metadata": {},
   "outputs": [],
   "source": [
    "estimator = KerasClassifier(build_fn=model, epochs=100, batch_size=5, verbose=0)\n",
    "kfold = StratifiedKFold(n_splits=10, shuffle=True, random_state=seed)\n",
    "results = cross_val_score(estimator, train_data, train_labels, cv=kfold)"
   ]
  },
  {
   "cell_type": "code",
   "execution_count": 37,
   "metadata": {},
   "outputs": [
    {
     "name": "stdout",
     "output_type": "stream",
     "text": [
      "Results(Accuracy): 80.62% (7.61%)\n"
     ]
    }
   ],
   "source": [
    "print(\"Results(Accuracy): %.2f%% (%.2f%%)\" % (results.mean()*100, results.std()*100))"
   ]
  },
  {
   "cell_type": "code",
   "execution_count": 38,
   "metadata": {},
   "outputs": [
    {
     "name": "stdout",
     "output_type": "stream",
     "text": [
      "Standardized: 82.10% (10.52%)\n"
     ]
    }
   ],
   "source": [
    "np.random.seed(seed)\n",
    "estimators = []\n",
    "estimators.append(('standardize', StandardScaler()))\n",
    "estimators.append(('mlp', KerasClassifier(build_fn=model, epochs=100, batch_size=5, verbose=0)))\n",
    "pipeline = Pipeline(estimators)\n",
    "kfold = StratifiedKFold(n_splits=10, shuffle=True, random_state=seed)\n",
    "results = cross_val_score(pipeline, train_data, train_labels, cv=kfold)\n",
    "print(\"Standardized: %.2f%% (%.2f%%)\" % (results.mean()*100, results.std()*100))"
   ]
  },
  {
   "cell_type": "code",
   "execution_count": null,
   "metadata": {},
   "outputs": [],
   "source": []
  }
 ],
 "metadata": {
  "kernelspec": {
   "display_name": "Python 3",
   "language": "python",
   "name": "python3"
  },
  "language_info": {
   "codemirror_mode": {
    "name": "ipython",
    "version": 3
   },
   "file_extension": ".py",
   "mimetype": "text/x-python",
   "name": "python",
   "nbconvert_exporter": "python",
   "pygments_lexer": "ipython3",
   "version": "3.7.4"
  }
 },
 "nbformat": 4,
 "nbformat_minor": 2
}
