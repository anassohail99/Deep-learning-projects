{
 "cells": [
  {
   "cell_type": "markdown",
   "metadata": {},
   "source": [
    "# ASSIGNMENT : IRIS MULTI-CLASS CLASSIFICATION\n",
    "\n",
    "###### Purpose :\n",
    "To predict the species of flower .\n",
    "###### Description :\n",
    "The dataset contains a set of 150 records under 5 attributes - Petal Length, Petal Width, Sepal Length, Sepal width and Class(Species).\n",
    "###### Requirements :\n",
    "1) Code must be in tf 2.0 .\n",
    "\n",
    "2) Accuracy must be in between 95-97% .\n",
    "\n",
    "3) Model shouldn't be Overfit (You can add drop out layer for this) ."
   ]
  },
  {
   "cell_type": "markdown",
   "metadata": {},
   "source": [
    "### STEP 1 : Load all the necessary libraries "
   ]
  },
  {
   "cell_type": "code",
   "execution_count": 1,
   "metadata": {},
   "outputs": [],
   "source": [
    "import tensorflow as tf\n",
    "from tensorflow.keras import layers , optimizers , layers , models\n",
    "from tensorflow.keras.utils import to_categorical\n",
    "from sklearn.utils import shuffle\n",
    "import pandas as pd\n",
    "import numpy as np\n",
    "import matplotlib.pyplot as plt"
   ]
  },
  {
   "cell_type": "markdown",
   "metadata": {},
   "source": [
    "### STEP 2 : Data Preparation\n",
    "This step consists of multiple sub steps from data loading [download](https://github.com/ramsha275/PIAIC-Sir-Anees-Quarter-2/blob/master/Deep%20Learning/iris.csv),shuffling ,spliting in **Train** and **Test** sets to one-hot-enconding on labels . \n"
   ]
  },
  {
   "cell_type": "code",
   "execution_count": 2,
   "metadata": {},
   "outputs": [
    {
     "data": {
      "text/plain": [
       "array([[6.0, 2.7, 5.1, 1.6, 'Versicolor'],\n",
       "       [5.5, 4.2, 1.4, 0.2, 'Setosa'],\n",
       "       [5.8, 2.7, 5.1, 1.9, 'Virginica'],\n",
       "       [6.5, 3.0, 5.5, 1.8, 'Virginica'],\n",
       "       [6.3, 2.5, 5.0, 1.9, 'Virginica'],\n",
       "       [4.8, 3.4, 1.9, 0.2, 'Setosa'],\n",
       "       [6.1, 2.8, 4.0, 1.3, 'Versicolor'],\n",
       "       [5.6, 2.5, 3.9, 1.1, 'Versicolor'],\n",
       "       [5.4, 3.4, 1.5, 0.4, 'Setosa'],\n",
       "       [4.7, 3.2, 1.3, 0.2, 'Setosa'],\n",
       "       [6.9, 3.1, 5.4, 2.1, 'Virginica'],\n",
       "       [7.7, 2.8, 6.7, 2.0, 'Virginica'],\n",
       "       [5.7, 3.8, 1.7, 0.3, 'Setosa'],\n",
       "       [5.5, 2.5, 4.0, 1.3, 'Versicolor'],\n",
       "       [6.1, 2.9, 4.7, 1.4, 'Versicolor'],\n",
       "       [5.4, 3.9, 1.3, 0.4, 'Setosa'],\n",
       "       [5.1, 2.5, 3.0, 1.1, 'Versicolor'],\n",
       "       [6.0, 2.9, 4.5, 1.5, 'Versicolor'],\n",
       "       [6.7, 3.3, 5.7, 2.1, 'Virginica'],\n",
       "       [5.8, 2.7, 4.1, 1.0, 'Versicolor'],\n",
       "       [5.0, 3.6, 1.4, 0.2, 'Setosa'],\n",
       "       [4.8, 3.0, 1.4, 0.1, 'Setosa'],\n",
       "       [5.4, 3.4, 1.7, 0.2, 'Setosa'],\n",
       "       [5.1, 3.8, 1.5, 0.3, 'Setosa'],\n",
       "       [6.4, 3.1, 5.5, 1.8, 'Virginica'],\n",
       "       [4.5, 2.3, 1.3, 0.3, 'Setosa'],\n",
       "       [4.4, 3.2, 1.3, 0.2, 'Setosa'],\n",
       "       [6.7, 3.3, 5.7, 2.5, 'Virginica'],\n",
       "       [4.9, 3.1, 1.5, 0.2, 'Setosa'],\n",
       "       [6.9, 3.2, 5.7, 2.3, 'Virginica'],\n",
       "       [7.7, 3.8, 6.7, 2.2, 'Virginica'],\n",
       "       [5.7, 2.8, 4.5, 1.3, 'Versicolor'],\n",
       "       [6.4, 3.2, 5.3, 2.3, 'Virginica'],\n",
       "       [5.0, 3.2, 1.2, 0.2, 'Setosa'],\n",
       "       [6.0, 2.2, 4.0, 1.0, 'Versicolor'],\n",
       "       [5.0, 2.3, 3.3, 1.0, 'Versicolor'],\n",
       "       [4.6, 3.6, 1.0, 0.2, 'Setosa'],\n",
       "       [4.7, 3.2, 1.6, 0.2, 'Setosa'],\n",
       "       [7.9, 3.8, 6.4, 2.0, 'Virginica'],\n",
       "       [5.7, 3.0, 4.2, 1.2, 'Versicolor'],\n",
       "       [5.0, 2.0, 3.5, 1.0, 'Versicolor'],\n",
       "       [6.2, 2.8, 4.8, 1.8, 'Virginica'],\n",
       "       [6.9, 3.1, 4.9, 1.5, 'Versicolor'],\n",
       "       [6.2, 3.4, 5.4, 2.3, 'Virginica'],\n",
       "       [5.6, 2.7, 4.2, 1.3, 'Versicolor'],\n",
       "       [5.7, 2.8, 4.1, 1.3, 'Versicolor'],\n",
       "       [5.8, 2.7, 3.9, 1.2, 'Versicolor'],\n",
       "       [6.1, 3.0, 4.6, 1.4, 'Versicolor'],\n",
       "       [7.6, 3.0, 6.6, 2.1, 'Virginica'],\n",
       "       [6.1, 2.8, 4.7, 1.2, 'Versicolor'],\n",
       "       [6.2, 2.2, 4.5, 1.5, 'Versicolor'],\n",
       "       [6.7, 3.0, 5.0, 1.7, 'Versicolor'],\n",
       "       [7.0, 3.2, 4.7, 1.4, 'Versicolor'],\n",
       "       [6.8, 3.2, 5.9, 2.3, 'Virginica'],\n",
       "       [6.5, 3.0, 5.2, 2.0, 'Virginica'],\n",
       "       [5.5, 2.6, 4.4, 1.2, 'Versicolor'],\n",
       "       [4.8, 3.4, 1.6, 0.2, 'Setosa'],\n",
       "       [6.6, 3.0, 4.4, 1.4, 'Versicolor'],\n",
       "       [5.6, 2.9, 3.6, 1.3, 'Versicolor'],\n",
       "       [6.4, 2.8, 5.6, 2.2, 'Virginica'],\n",
       "       [5.7, 4.4, 1.5, 0.4, 'Setosa'],\n",
       "       [4.4, 3.0, 1.3, 0.2, 'Setosa'],\n",
       "       [6.3, 3.4, 5.6, 2.4, 'Virginica'],\n",
       "       [5.4, 3.9, 1.7, 0.4, 'Setosa'],\n",
       "       [6.7, 3.1, 5.6, 2.4, 'Virginica'],\n",
       "       [6.0, 3.4, 4.5, 1.6, 'Versicolor'],\n",
       "       [6.1, 3.0, 4.9, 1.8, 'Virginica'],\n",
       "       [4.9, 3.6, 1.4, 0.1, 'Setosa'],\n",
       "       [5.8, 4.0, 1.2, 0.2, 'Setosa'],\n",
       "       [5.2, 2.7, 3.9, 1.4, 'Versicolor'],\n",
       "       [5.6, 2.8, 4.9, 2.0, 'Virginica'],\n",
       "       [6.8, 2.8, 4.8, 1.4, 'Versicolor'],\n",
       "       [7.2, 3.6, 6.1, 2.5, 'Virginica'],\n",
       "       [7.3, 2.9, 6.3, 1.8, 'Virginica'],\n",
       "       [5.1, 3.5, 1.4, 0.3, 'Setosa'],\n",
       "       [5.1, 3.3, 1.7, 0.5, 'Setosa'],\n",
       "       [6.2, 2.9, 4.3, 1.3, 'Versicolor'],\n",
       "       [7.4, 2.8, 6.1, 1.9, 'Virginica'],\n",
       "       [5.8, 2.6, 4.0, 1.2, 'Versicolor'],\n",
       "       [6.3, 2.7, 4.9, 1.8, 'Virginica'],\n",
       "       [6.3, 2.3, 4.4, 1.3, 'Versicolor'],\n",
       "       [7.7, 2.6, 6.9, 2.3, 'Virginica'],\n",
       "       [4.9, 3.0, 1.4, 0.2, 'Setosa'],\n",
       "       [5.8, 2.8, 5.1, 2.4, 'Virginica'],\n",
       "       [5.7, 2.9, 4.2, 1.3, 'Versicolor'],\n",
       "       [5.6, 3.0, 4.1, 1.3, 'Versicolor'],\n",
       "       [4.6, 3.4, 1.4, 0.3, 'Setosa'],\n",
       "       [5.9, 3.0, 5.1, 1.8, 'Virginica'],\n",
       "       [6.3, 2.8, 5.1, 1.5, 'Virginica'],\n",
       "       [5.3, 3.7, 1.5, 0.2, 'Setosa'],\n",
       "       [5.0, 3.3, 1.4, 0.2, 'Setosa'],\n",
       "       [6.7, 3.1, 4.7, 1.5, 'Versicolor'],\n",
       "       [5.4, 3.7, 1.5, 0.2, 'Setosa'],\n",
       "       [5.0, 3.5, 1.6, 0.6, 'Setosa'],\n",
       "       [5.4, 3.0, 4.5, 1.5, 'Versicolor'],\n",
       "       [5.1, 3.4, 1.5, 0.2, 'Setosa'],\n",
       "       [6.4, 2.7, 5.3, 1.9, 'Virginica'],\n",
       "       [6.7, 2.5, 5.8, 1.8, 'Virginica'],\n",
       "       [4.6, 3.2, 1.4, 0.2, 'Setosa'],\n",
       "       [6.3, 2.9, 5.6, 1.8, 'Virginica'],\n",
       "       [5.0, 3.4, 1.6, 0.4, 'Setosa'],\n",
       "       [5.1, 3.5, 1.4, 0.2, 'Setosa'],\n",
       "       [5.5, 2.3, 4.0, 1.3, 'Versicolor'],\n",
       "       [4.4, 2.9, 1.4, 0.2, 'Setosa'],\n",
       "       [6.3, 2.5, 4.9, 1.5, 'Versicolor'],\n",
       "       [5.1, 3.8, 1.9, 0.4, 'Setosa'],\n",
       "       [6.8, 3.0, 5.5, 2.1, 'Virginica'],\n",
       "       [6.0, 3.0, 4.8, 1.8, 'Virginica'],\n",
       "       [6.7, 3.0, 5.2, 2.3, 'Virginica'],\n",
       "       [6.5, 3.0, 5.8, 2.2, 'Virginica'],\n",
       "       [5.5, 3.5, 1.3, 0.2, 'Setosa'],\n",
       "       [7.7, 3.0, 6.1, 2.3, 'Virginica'],\n",
       "       [4.6, 3.1, 1.5, 0.2, 'Setosa'],\n",
       "       [6.3, 3.3, 4.7, 1.6, 'Versicolor'],\n",
       "       [6.9, 3.1, 5.1, 2.3, 'Virginica'],\n",
       "       [5.0, 3.4, 1.5, 0.2, 'Setosa'],\n",
       "       [4.8, 3.1, 1.6, 0.2, 'Setosa'],\n",
       "       [5.5, 2.4, 3.8, 1.1, 'Versicolor'],\n",
       "       [5.9, 3.2, 4.8, 1.8, 'Versicolor'],\n",
       "       [4.8, 3.0, 1.4, 0.3, 'Setosa'],\n",
       "       [6.0, 2.2, 5.0, 1.5, 'Virginica'],\n",
       "       [4.3, 3.0, 1.1, 0.1, 'Setosa'],\n",
       "       [5.0, 3.5, 1.3, 0.3, 'Setosa'],\n",
       "       [6.6, 2.9, 4.6, 1.3, 'Versicolor'],\n",
       "       [5.2, 3.5, 1.5, 0.2, 'Setosa'],\n",
       "       [5.5, 2.4, 3.7, 1.0, 'Versicolor'],\n",
       "       [6.5, 3.2, 5.1, 2.0, 'Virginica'],\n",
       "       [7.1, 3.0, 5.9, 2.1, 'Virginica'],\n",
       "       [5.7, 2.6, 3.5, 1.0, 'Versicolor'],\n",
       "       [5.2, 4.1, 1.5, 0.1, 'Setosa'],\n",
       "       [6.4, 3.2, 4.5, 1.5, 'Versicolor'],\n",
       "       [6.4, 2.8, 5.6, 2.1, 'Virginica'],\n",
       "       [4.9, 2.5, 4.5, 1.7, 'Virginica'],\n",
       "       [5.1, 3.8, 1.6, 0.2, 'Setosa'],\n",
       "       [7.2, 3.0, 5.8, 1.6, 'Virginica'],\n",
       "       [5.0, 3.0, 1.6, 0.2, 'Setosa'],\n",
       "       [5.2, 3.4, 1.4, 0.2, 'Setosa'],\n",
       "       [6.1, 2.6, 5.6, 1.4, 'Virginica'],\n",
       "       [6.7, 3.1, 4.4, 1.4, 'Versicolor'],\n",
       "       [7.2, 3.2, 6.0, 1.8, 'Virginica'],\n",
       "       [5.7, 2.5, 5.0, 2.0, 'Virginica'],\n",
       "       [6.3, 3.3, 6.0, 2.5, 'Virginica'],\n",
       "       [5.9, 3.0, 4.2, 1.5, 'Versicolor'],\n",
       "       [4.9, 2.4, 3.3, 1.0, 'Versicolor'],\n",
       "       [5.1, 3.7, 1.5, 0.4, 'Setosa'],\n",
       "       [6.5, 2.8, 4.6, 1.5, 'Versicolor'],\n",
       "       [5.6, 3.0, 4.5, 1.5, 'Versicolor'],\n",
       "       [6.4, 2.9, 4.3, 1.3, 'Versicolor'],\n",
       "       [5.8, 2.7, 5.1, 1.9, 'Virginica'],\n",
       "       [4.9, 3.1, 1.5, 0.1, 'Setosa']], dtype=object)"
      ]
     },
     "execution_count": 2,
     "metadata": {},
     "output_type": "execute_result"
    }
   ],
   "source": [
    "data = pd.read_csv('iris.csv')\n",
    "#shuffling data\n",
    "data = shuffle(data)\n",
    "df = data.values\n",
    "df"
   ]
  },
  {
   "cell_type": "code",
   "execution_count": 3,
   "metadata": {},
   "outputs": [
    {
     "data": {
      "text/plain": [
       "(150, 5)"
      ]
     },
     "execution_count": 3,
     "metadata": {},
     "output_type": "execute_result"
    }
   ],
   "source": [
    "df.shape"
   ]
  },
  {
   "cell_type": "code",
   "execution_count": 4,
   "metadata": {},
   "outputs": [
    {
     "data": {
      "text/plain": [
       "(150, 5)"
      ]
     },
     "execution_count": 4,
     "metadata": {},
     "output_type": "execute_result"
    }
   ],
   "source": [
    "data.head()\n",
    "data.shape"
   ]
  },
  {
   "cell_type": "code",
   "execution_count": 5,
   "metadata": {},
   "outputs": [],
   "source": [
    "#spliting data\n",
    "\n",
    "#training 70%\n",
    "x_train = df[:105,:4].astype('float32')\n",
    "y_train = df[:105,4]   #label or output\n",
    "\n",
    "#testing 30%\n",
    "x_test = df[105:,:4].astype('float32')\n",
    "y_test = df[105:,4]  #label or output"
   ]
  },
  {
   "cell_type": "code",
   "execution_count": 6,
   "metadata": {},
   "outputs": [
    {
     "data": {
      "text/plain": [
       "((105, 4), (105,), (45, 4), (45,))"
      ]
     },
     "execution_count": 6,
     "metadata": {},
     "output_type": "execute_result"
    }
   ],
   "source": [
    "x_train.shape , y_train.shape , x_test.shape , y_test.shape"
   ]
  },
  {
   "cell_type": "markdown",
   "metadata": {},
   "source": [
    "### STEP 2.1 : ENCODING"
   ]
  },
  {
   "cell_type": "code",
   "execution_count": 7,
   "metadata": {},
   "outputs": [
    {
     "name": "stdout",
     "output_type": "stream",
     "text": [
      "[1 0 2 2 2 0 1 1 0 0 2 2 0 1 1 0 1 1 2 1 0 0 0 0 2 0 0 2 0 2 2 1 2 0 1 1 0\n",
      " 0 2 1 1 2 1 2 1 1 1 1 2 1 1 1 1 2 2 1 0 1 1 2 0 0 2 0 2 1 2 0 0 1 2 1 2 2\n",
      " 0 0 1 2 1 2 1 2 0 2 1 1 0 2 2 0 0 1 0 0 1 0 2 2 0 2 0 0 1 0 1]\n",
      "\n",
      "\n",
      "[0 2 2 2 2 0 2 0 1 2 0 0 1 1 0 2 0 0 1 0 1 2 2 1 0 1 2 2 0 2 0 0 2 1 2 2 2\n",
      " 1 1 0 1 1 1 2 0]\n"
     ]
    }
   ],
   "source": [
    "from sklearn.preprocessing import LabelEncoder\n",
    "# encode class values as integers\n",
    "\n",
    "#training\n",
    "le = LabelEncoder()\n",
    "le.fit(y_train)\n",
    "y_train = le.transform(y_train)\n",
    "print(y_train)\n",
    "one_hot_encode_train = to_categorical(y_train)\n",
    "\n",
    "print('\\n')\n",
    "\n",
    "#testing\n",
    "le.fit(y_test)\n",
    "y_test = le.transform(y_test)\n",
    "print(y_test)\n",
    "one_hot_encode_test = to_categorical(y_test)"
   ]
  },
  {
   "cell_type": "code",
   "execution_count": 8,
   "metadata": {},
   "outputs": [
    {
     "data": {
      "text/plain": [
       "array(['Setosa', 'Versicolor', 'Virginica'], dtype=object)"
      ]
     },
     "execution_count": 8,
     "metadata": {},
     "output_type": "execute_result"
    }
   ],
   "source": [
    "le.classes_"
   ]
  },
  {
   "cell_type": "code",
   "execution_count": 9,
   "metadata": {},
   "outputs": [
    {
     "data": {
      "text/plain": [
       "array([[1., 0., 0.],\n",
       "       [0., 0., 1.],\n",
       "       [0., 0., 1.],\n",
       "       [0., 0., 1.],\n",
       "       [0., 0., 1.],\n",
       "       [1., 0., 0.],\n",
       "       [0., 0., 1.],\n",
       "       [1., 0., 0.],\n",
       "       [0., 1., 0.],\n",
       "       [0., 0., 1.],\n",
       "       [1., 0., 0.],\n",
       "       [1., 0., 0.],\n",
       "       [0., 1., 0.],\n",
       "       [0., 1., 0.],\n",
       "       [1., 0., 0.],\n",
       "       [0., 0., 1.],\n",
       "       [1., 0., 0.],\n",
       "       [1., 0., 0.],\n",
       "       [0., 1., 0.],\n",
       "       [1., 0., 0.],\n",
       "       [0., 1., 0.],\n",
       "       [0., 0., 1.],\n",
       "       [0., 0., 1.],\n",
       "       [0., 1., 0.],\n",
       "       [1., 0., 0.],\n",
       "       [0., 1., 0.],\n",
       "       [0., 0., 1.],\n",
       "       [0., 0., 1.],\n",
       "       [1., 0., 0.],\n",
       "       [0., 0., 1.],\n",
       "       [1., 0., 0.],\n",
       "       [1., 0., 0.],\n",
       "       [0., 0., 1.],\n",
       "       [0., 1., 0.],\n",
       "       [0., 0., 1.],\n",
       "       [0., 0., 1.],\n",
       "       [0., 0., 1.],\n",
       "       [0., 1., 0.],\n",
       "       [0., 1., 0.],\n",
       "       [1., 0., 0.],\n",
       "       [0., 1., 0.],\n",
       "       [0., 1., 0.],\n",
       "       [0., 1., 0.],\n",
       "       [0., 0., 1.],\n",
       "       [1., 0., 0.]], dtype=float32)"
      ]
     },
     "execution_count": 9,
     "metadata": {},
     "output_type": "execute_result"
    }
   ],
   "source": [
    "one_hot_encode_test"
   ]
  },
  {
   "cell_type": "code",
   "execution_count": 10,
   "metadata": {},
   "outputs": [
    {
     "data": {
      "text/plain": [
       "array([[0., 1., 0.],\n",
       "       [1., 0., 0.],\n",
       "       [0., 0., 1.],\n",
       "       [0., 0., 1.],\n",
       "       [0., 0., 1.],\n",
       "       [1., 0., 0.],\n",
       "       [0., 1., 0.],\n",
       "       [0., 1., 0.],\n",
       "       [1., 0., 0.],\n",
       "       [1., 0., 0.],\n",
       "       [0., 0., 1.],\n",
       "       [0., 0., 1.],\n",
       "       [1., 0., 0.],\n",
       "       [0., 1., 0.],\n",
       "       [0., 1., 0.],\n",
       "       [1., 0., 0.],\n",
       "       [0., 1., 0.],\n",
       "       [0., 1., 0.],\n",
       "       [0., 0., 1.],\n",
       "       [0., 1., 0.],\n",
       "       [1., 0., 0.],\n",
       "       [1., 0., 0.],\n",
       "       [1., 0., 0.],\n",
       "       [1., 0., 0.],\n",
       "       [0., 0., 1.],\n",
       "       [1., 0., 0.],\n",
       "       [1., 0., 0.],\n",
       "       [0., 0., 1.],\n",
       "       [1., 0., 0.],\n",
       "       [0., 0., 1.],\n",
       "       [0., 0., 1.],\n",
       "       [0., 1., 0.],\n",
       "       [0., 0., 1.],\n",
       "       [1., 0., 0.],\n",
       "       [0., 1., 0.],\n",
       "       [0., 1., 0.],\n",
       "       [1., 0., 0.],\n",
       "       [1., 0., 0.],\n",
       "       [0., 0., 1.],\n",
       "       [0., 1., 0.],\n",
       "       [0., 1., 0.],\n",
       "       [0., 0., 1.],\n",
       "       [0., 1., 0.],\n",
       "       [0., 0., 1.],\n",
       "       [0., 1., 0.],\n",
       "       [0., 1., 0.],\n",
       "       [0., 1., 0.],\n",
       "       [0., 1., 0.],\n",
       "       [0., 0., 1.],\n",
       "       [0., 1., 0.],\n",
       "       [0., 1., 0.],\n",
       "       [0., 1., 0.],\n",
       "       [0., 1., 0.],\n",
       "       [0., 0., 1.],\n",
       "       [0., 0., 1.],\n",
       "       [0., 1., 0.],\n",
       "       [1., 0., 0.],\n",
       "       [0., 1., 0.],\n",
       "       [0., 1., 0.],\n",
       "       [0., 0., 1.],\n",
       "       [1., 0., 0.],\n",
       "       [1., 0., 0.],\n",
       "       [0., 0., 1.],\n",
       "       [1., 0., 0.],\n",
       "       [0., 0., 1.],\n",
       "       [0., 1., 0.],\n",
       "       [0., 0., 1.],\n",
       "       [1., 0., 0.],\n",
       "       [1., 0., 0.],\n",
       "       [0., 1., 0.],\n",
       "       [0., 0., 1.],\n",
       "       [0., 1., 0.],\n",
       "       [0., 0., 1.],\n",
       "       [0., 0., 1.],\n",
       "       [1., 0., 0.],\n",
       "       [1., 0., 0.],\n",
       "       [0., 1., 0.],\n",
       "       [0., 0., 1.],\n",
       "       [0., 1., 0.],\n",
       "       [0., 0., 1.],\n",
       "       [0., 1., 0.],\n",
       "       [0., 0., 1.],\n",
       "       [1., 0., 0.],\n",
       "       [0., 0., 1.],\n",
       "       [0., 1., 0.],\n",
       "       [0., 1., 0.],\n",
       "       [1., 0., 0.],\n",
       "       [0., 0., 1.],\n",
       "       [0., 0., 1.],\n",
       "       [1., 0., 0.],\n",
       "       [1., 0., 0.],\n",
       "       [0., 1., 0.],\n",
       "       [1., 0., 0.],\n",
       "       [1., 0., 0.],\n",
       "       [0., 1., 0.],\n",
       "       [1., 0., 0.],\n",
       "       [0., 0., 1.],\n",
       "       [0., 0., 1.],\n",
       "       [1., 0., 0.],\n",
       "       [0., 0., 1.],\n",
       "       [1., 0., 0.],\n",
       "       [1., 0., 0.],\n",
       "       [0., 1., 0.],\n",
       "       [1., 0., 0.],\n",
       "       [0., 1., 0.]], dtype=float32)"
      ]
     },
     "execution_count": 10,
     "metadata": {},
     "output_type": "execute_result"
    }
   ],
   "source": [
    "one_hot_encode_train"
   ]
  },
  {
   "cell_type": "markdown",
   "metadata": {},
   "source": [
    "### STEP 3 : Model Architecture \n",
    "\n",
    "\n",
    "###### Input : 4 \n",
    "###### 1 hidden Layer : 8 nodes\n",
    "###### Output : 3"
   ]
  },
  {
   "cell_type": "code",
   "execution_count": 11,
   "metadata": {},
   "outputs": [],
   "source": [
    "model = models.Sequential()\n",
    "model.add(layers.Dense(8 , input_shape = (4,) , activation = 'relu'))\n",
    "model.add(layers.Dense(3 ,  activation = 'softmax'))"
   ]
  },
  {
   "cell_type": "markdown",
   "metadata": {},
   "source": [
    "### STEP 4 : Compilation Step "
   ]
  },
  {
   "cell_type": "code",
   "execution_count": 12,
   "metadata": {},
   "outputs": [
    {
     "name": "stdout",
     "output_type": "stream",
     "text": [
      "Train on 105 samples\n",
      "Epoch 1/40\n",
      "105/105 [==============================] - 2s 20ms/sample - loss: 1.7324 - accuracy: 0.3524\n",
      "Epoch 2/40\n",
      "105/105 [==============================] - 0s 685us/sample - loss: 1.4976 - accuracy: 0.3524\n",
      "Epoch 3/40\n",
      "105/105 [==============================] - 0s 752us/sample - loss: 1.3497 - accuracy: 0.3524\n",
      "Epoch 4/40\n",
      "105/105 [==============================] - 0s 685us/sample - loss: 1.2394 - accuracy: 0.3619\n",
      "Epoch 5/40\n",
      "105/105 [==============================] - 0s 609us/sample - loss: 1.1444 - accuracy: 0.4952\n",
      "Epoch 6/40\n",
      "105/105 [==============================] - 0s 657us/sample - loss: 1.0756 - accuracy: 0.5619\n",
      "Epoch 7/40\n",
      "105/105 [==============================] - 0s 771us/sample - loss: 1.0176 - accuracy: 0.4667\n",
      "Epoch 8/40\n",
      "105/105 [==============================] - 0s 761us/sample - loss: 0.9685 - accuracy: 0.3619\n",
      "Epoch 9/40\n",
      "105/105 [==============================] - 0s 676us/sample - loss: 0.9273 - accuracy: 0.3143\n",
      "Epoch 10/40\n",
      "105/105 [==============================] - 0s 600us/sample - loss: 0.8957 - accuracy: 0.3143\n",
      "Epoch 11/40\n",
      "105/105 [==============================] - 0s 647us/sample - loss: 0.8676 - accuracy: 0.3143\n",
      "Epoch 12/40\n",
      "105/105 [==============================] - 0s 761us/sample - loss: 0.8431 - accuracy: 0.3143\n",
      "Epoch 13/40\n",
      "105/105 [==============================] - 0s 781us/sample - loss: 0.8200 - accuracy: 0.3143\n",
      "Epoch 14/40\n",
      "105/105 [==============================] - 0s 666us/sample - loss: 0.8000 - accuracy: 0.3143\n",
      "Epoch 15/40\n",
      "105/105 [==============================] - 0s 647us/sample - loss: 0.7812 - accuracy: 0.3619\n",
      "Epoch 16/40\n",
      "105/105 [==============================] - 0s 695us/sample - loss: 0.7650 - accuracy: 0.4952\n",
      "Epoch 17/40\n",
      "105/105 [==============================] - 0s 790us/sample - loss: 0.7490 - accuracy: 0.6286\n",
      "Epoch 18/40\n",
      "105/105 [==============================] - 0s 781us/sample - loss: 0.7339 - accuracy: 0.7048\n",
      "Epoch 19/40\n",
      "105/105 [==============================] - 0s 600us/sample - loss: 0.7186 - accuracy: 0.7524\n",
      "Epoch 20/40\n",
      "105/105 [==============================] - 0s 600us/sample - loss: 0.7051 - accuracy: 0.7238\n",
      "Epoch 21/40\n",
      "105/105 [==============================] - 0s 619us/sample - loss: 0.6906 - accuracy: 0.8000\n",
      "Epoch 22/40\n",
      "105/105 [==============================] - 0s 895us/sample - loss: 0.6768 - accuracy: 0.7905\n",
      "Epoch 23/40\n",
      "105/105 [==============================] - 0s 809us/sample - loss: 0.6630 - accuracy: 0.8095\n",
      "Epoch 24/40\n",
      "105/105 [==============================] - 0s 790us/sample - loss: 0.6501 - accuracy: 0.8000\n",
      "Epoch 25/40\n",
      "105/105 [==============================] - 0s 771us/sample - loss: 0.6372 - accuracy: 0.8190\n",
      "Epoch 26/40\n",
      "105/105 [==============================] - 0s 733us/sample - loss: 0.6252 - accuracy: 0.9143\n",
      "Epoch 27/40\n",
      "105/105 [==============================] - 0s 676us/sample - loss: 0.6133 - accuracy: 0.9333\n",
      "Epoch 28/40\n",
      "105/105 [==============================] - 0s 628us/sample - loss: 0.6007 - accuracy: 0.8857\n",
      "Epoch 29/40\n",
      "105/105 [==============================] - 0s 619us/sample - loss: 0.5891 - accuracy: 0.8762\n",
      "Epoch 30/40\n",
      "105/105 [==============================] - 0s 657us/sample - loss: 0.5773 - accuracy: 0.9238\n",
      "Epoch 31/40\n",
      "105/105 [==============================] - 0s 685us/sample - loss: 0.5650 - accuracy: 0.9048\n",
      "Epoch 32/40\n",
      "105/105 [==============================] - 0s 761us/sample - loss: 0.5539 - accuracy: 0.9714\n",
      "Epoch 33/40\n",
      "105/105 [==============================] - 0s 752us/sample - loss: 0.5409 - accuracy: 0.9333\n",
      "Epoch 34/40\n",
      "105/105 [==============================] - 0s 819us/sample - loss: 0.5308 - accuracy: 0.9714\n",
      "Epoch 35/40\n",
      "105/105 [==============================] - 0s 685us/sample - loss: 0.5203 - accuracy: 0.9714\n",
      "Epoch 36/40\n",
      "105/105 [==============================] - 0s 676us/sample - loss: 0.5106 - accuracy: 0.9714\n",
      "Epoch 37/40\n",
      "105/105 [==============================] - 0s 657us/sample - loss: 0.5006 - accuracy: 0.9429\n",
      "Epoch 38/40\n",
      "105/105 [==============================] - 0s 638us/sample - loss: 0.4911 - accuracy: 0.9524\n",
      "Epoch 39/40\n",
      "105/105 [==============================] - 0s 752us/sample - loss: 0.4813 - accuracy: 0.9810\n",
      "Epoch 40/40\n",
      "105/105 [==============================] - 0s 695us/sample - loss: 0.4717 - accuracy: 0.9714\n"
     ]
    }
   ],
   "source": [
    "model.compile(optimizer = 'rmsprop',\n",
    "             loss = 'categorical_crossentropy',\n",
    "             metrics = ['accuracy'])\n",
    "history = model.fit(x_train , one_hot_encode_train , epochs = 40 ,batch_size = 4)"
   ]
  },
  {
   "cell_type": "markdown",
   "metadata": {},
   "source": [
    "### STEP 5 : Evaluation "
   ]
  },
  {
   "cell_type": "code",
   "execution_count": 13,
   "metadata": {},
   "outputs": [
    {
     "name": "stdout",
     "output_type": "stream",
     "text": [
      "45/1 - 0s - loss: 0.4856 - accuracy: 0.9333\n"
     ]
    }
   ],
   "source": [
    "result = model.evaluate(x_test , one_hot_encode_test , verbose = 2)"
   ]
  },
  {
   "cell_type": "code",
   "execution_count": 14,
   "metadata": {},
   "outputs": [
    {
     "data": {
      "text/plain": [
       "[0.4584348334206475, 0.93333334]"
      ]
     },
     "execution_count": 14,
     "metadata": {},
     "output_type": "execute_result"
    }
   ],
   "source": [
    "result"
   ]
  },
  {
   "cell_type": "markdown",
   "metadata": {},
   "source": [
    "### STEP 6 : Prediction "
   ]
  },
  {
   "cell_type": "code",
   "execution_count": 29,
   "metadata": {},
   "outputs": [],
   "source": [
    "i=10\n",
    "prediction = model.predict_classes(x_test[8].reshape(1,4))"
   ]
  },
  {
   "cell_type": "code",
   "execution_count": 30,
   "metadata": {},
   "outputs": [
    {
     "name": "stdout",
     "output_type": "stream",
     "text": [
      "Data = [5.  3.4 1.5 0.2] => Prediction = Versicolor => Actual label = [5.  3.4 1.5 0.2]\n"
     ]
    }
   ],
   "source": [
    "#checking\n",
    "if prediction == 0:\n",
    "    print(f'Data = {x_test[i]} => Prediction = Setosa => Actual label = {x_test[i]}')\n",
    "elif prediction == 1:\n",
    "    print(f'Data = {x_test[i]} => Prediction = Versicolor => Actual label = {x_test[i]}')\n",
    "else:\n",
    "     print(f'Data = {x_test[i]} => Prediction = Virginica => Actual label = {x_test[i]}')"
   ]
  },
  {
   "cell_type": "code",
   "execution_count": null,
   "metadata": {},
   "outputs": [],
   "source": []
  }
 ],
 "metadata": {
  "kernelspec": {
   "display_name": "Python 3",
   "language": "python",
   "name": "python3"
  },
  "language_info": {
   "codemirror_mode": {
    "name": "ipython",
    "version": 3
   },
   "file_extension": ".py",
   "mimetype": "text/x-python",
   "name": "python",
   "nbconvert_exporter": "python",
   "pygments_lexer": "ipython3",
   "version": "3.7.3"
  }
 },
 "nbformat": 4,
 "nbformat_minor": 2
}
